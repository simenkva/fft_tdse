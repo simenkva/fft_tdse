{
 "cells": [
  {
   "cell_type": "code",
   "execution_count": 1,
   "id": "4e4432dd",
   "metadata": {
    "execution": {
     "iopub.execute_input": "2023-12-19T12:24:36.112163Z",
     "iopub.status.busy": "2023-12-19T12:24:36.111823Z",
     "iopub.status.idle": "2023-12-19T12:24:36.551727Z",
     "shell.execute_reply": "2023-12-19T12:24:36.551276Z"
    },
    "papermill": {
     "duration": 0.445344,
     "end_time": "2023-12-19T12:24:36.552859",
     "exception": false,
     "start_time": "2023-12-19T12:24:36.107515",
     "status": "completed"
    },
    "tags": []
   },
   "outputs": [],
   "source": [
    "import numpy as np\n",
    "from fft_tdse.simulator import *\n",
    "from fft_tdse.animator import *\n",
    "import matplotlib.pyplot as plt\n",
    "\n",
    "\n"
   ]
  },
  {
   "cell_type": "code",
   "execution_count": 2,
   "id": "adbac88c",
   "metadata": {
    "execution": {
     "iopub.execute_input": "2023-12-19T12:24:36.555336Z",
     "iopub.status.busy": "2023-12-19T12:24:36.555121Z",
     "iopub.status.idle": "2023-12-19T12:24:36.557898Z",
     "shell.execute_reply": "2023-12-19T12:24:36.557636Z"
    },
    "papermill": {
     "duration": 0.004937,
     "end_time": "2023-12-19T12:24:36.558840",
     "exception": false,
     "start_time": "2023-12-19T12:24:36.553903",
     "status": "completed"
    },
    "tags": []
   },
   "outputs": [],
   "source": [
    "x_min = -10\n",
    "x_max = 10\n",
    "y_min = -10\n",
    "y_max = 10\n",
    "nx = 512\n",
    "ny = 512\n",
    "\n",
    "def potential(x, y):\n",
    "   \n",
    "    return 3 * y * (y >= -8) + 40 * (y < -8)\n",
    "\n",
    "\n",
    "def init_wavefunction(x, y, sigma_x = 0.5, sigma_y = 0.5, k_x = 5.0, k_y = 0.0, x0 = -5.0, y0 = 0):\n",
    "    norm = 1.0/np.sqrt(sigma_x*sigma_y*np.pi)\n",
    "    return np.exp(-(x-x0)**2/(2*sigma_x) - (y-y0)**2/(2*sigma_y) + 1j*k_x*x + 1j*k_y*y) * norm"
   ]
  },
  {
   "cell_type": "code",
   "execution_count": 3,
   "id": "f739ddf4",
   "metadata": {
    "execution": {
     "iopub.execute_input": "2023-12-19T12:24:36.561151Z",
     "iopub.status.busy": "2023-12-19T12:24:36.560951Z",
     "iopub.status.idle": "2023-12-19T12:24:36.698141Z",
     "shell.execute_reply": "2023-12-19T12:24:36.697878Z"
    },
    "papermill": {
     "duration": 0.139469,
     "end_time": "2023-12-19T12:24:36.699029",
     "exception": false,
     "start_time": "2023-12-19T12:24:36.559560",
     "status": "completed"
    },
    "tags": []
   },
   "outputs": [
    {
     "name": "stderr",
     "output_type": "stream",
     "text": [
      "ic"
     ]
    },
    {
     "name": "stderr",
     "output_type": "stream",
     "text": [
      "|"
     ]
    },
    {
     "name": "stderr",
     "output_type": "stream",
     "text": [
      " "
     ]
    },
    {
     "name": "stderr",
     "output_type": "stream",
     "text": [
      "message"
     ]
    },
    {
     "name": "stderr",
     "output_type": "stream",
     "text": [
      ":"
     ]
    },
    {
     "name": "stderr",
     "output_type": "stream",
     "text": [
      " "
     ]
    },
    {
     "name": "stderr",
     "output_type": "stream",
     "text": [
      "'"
     ]
    },
    {
     "name": "stderr",
     "output_type": "stream",
     "text": [
      "Dimension set to 2"
     ]
    },
    {
     "name": "stderr",
     "output_type": "stream",
     "text": [
      "'"
     ]
    },
    {
     "name": "stderr",
     "output_type": "stream",
     "text": [
      "\n"
     ]
    },
    {
     "name": "stderr",
     "output_type": "stream",
     "text": [
      "ic"
     ]
    },
    {
     "name": "stderr",
     "output_type": "stream",
     "text": [
      "|"
     ]
    },
    {
     "name": "stderr",
     "output_type": "stream",
     "text": [
      " "
     ]
    },
    {
     "name": "stderr",
     "output_type": "stream",
     "text": [
      "message"
     ]
    },
    {
     "name": "stderr",
     "output_type": "stream",
     "text": [
      ":"
     ]
    },
    {
     "name": "stderr",
     "output_type": "stream",
     "text": [
      " "
     ]
    },
    {
     "name": "stderr",
     "output_type": "stream",
     "text": [
      "'"
     ]
    },
    {
     "name": "stderr",
     "output_type": "stream",
     "text": [
      "Initial condition set."
     ]
    },
    {
     "name": "stderr",
     "output_type": "stream",
     "text": [
      "'"
     ]
    },
    {
     "name": "stderr",
     "output_type": "stream",
     "text": [
      "\n"
     ]
    },
    {
     "name": "stderr",
     "output_type": "stream",
     "text": [
      "ic"
     ]
    },
    {
     "name": "stderr",
     "output_type": "stream",
     "text": [
      "|"
     ]
    },
    {
     "name": "stderr",
     "output_type": "stream",
     "text": [
      " "
     ]
    },
    {
     "name": "stderr",
     "output_type": "stream",
     "text": [
      "self"
     ]
    },
    {
     "name": "stderr",
     "output_type": "stream",
     "text": [
      "."
     ]
    },
    {
     "name": "stderr",
     "output_type": "stream",
     "text": [
      "initial_psi_fun"
     ]
    },
    {
     "name": "stderr",
     "output_type": "stream",
     "text": [
      ":"
     ]
    },
    {
     "name": "stderr",
     "output_type": "stream",
     "text": [
      " "
     ]
    },
    {
     "name": "stderr",
     "output_type": "stream",
     "text": [
      "<"
     ]
    },
    {
     "name": "stderr",
     "output_type": "stream",
     "text": [
      "function"
     ]
    },
    {
     "name": "stderr",
     "output_type": "stream",
     "text": [
      " "
     ]
    },
    {
     "name": "stderr",
     "output_type": "stream",
     "text": [
      "<"
     ]
    },
    {
     "name": "stderr",
     "output_type": "stream",
     "text": [
      "lambda"
     ]
    },
    {
     "name": "stderr",
     "output_type": "stream",
     "text": [
      ">"
     ]
    },
    {
     "name": "stderr",
     "output_type": "stream",
     "text": [
      " "
     ]
    },
    {
     "name": "stderr",
     "output_type": "stream",
     "text": [
      "at"
     ]
    },
    {
     "name": "stderr",
     "output_type": "stream",
     "text": [
      " "
     ]
    },
    {
     "name": "stderr",
     "output_type": "stream",
     "text": [
      "0x1390d48b0"
     ]
    },
    {
     "name": "stderr",
     "output_type": "stream",
     "text": [
      ">"
     ]
    },
    {
     "name": "stderr",
     "output_type": "stream",
     "text": [
      "\n"
     ]
    },
    {
     "name": "stderr",
     "output_type": "stream",
     "text": [
      "ic"
     ]
    },
    {
     "name": "stderr",
     "output_type": "stream",
     "text": [
      "|"
     ]
    },
    {
     "name": "stderr",
     "output_type": "stream",
     "text": [
      " "
     ]
    },
    {
     "name": "stderr",
     "output_type": "stream",
     "text": [
      "'"
     ]
    },
    {
     "name": "stderr",
     "output_type": "stream",
     "text": [
      "Time grid:"
     ]
    },
    {
     "name": "stderr",
     "output_type": "stream",
     "text": [
      "'"
     ]
    },
    {
     "name": "stderr",
     "output_type": "stream",
     "text": [
      "\n"
     ]
    },
    {
     "name": "stderr",
     "output_type": "stream",
     "text": [
      "ic"
     ]
    },
    {
     "name": "stderr",
     "output_type": "stream",
     "text": [
      "|"
     ]
    },
    {
     "name": "stderr",
     "output_type": "stream",
     "text": [
      " "
     ]
    },
    {
     "name": "stderr",
     "output_type": "stream",
     "text": [
      "self"
     ]
    },
    {
     "name": "stderr",
     "output_type": "stream",
     "text": [
      "."
     ]
    },
    {
     "name": "stderr",
     "output_type": "stream",
     "text": [
      "t0"
     ]
    },
    {
     "name": "stderr",
     "output_type": "stream",
     "text": [
      ":"
     ]
    },
    {
     "name": "stderr",
     "output_type": "stream",
     "text": [
      " "
     ]
    },
    {
     "name": "stderr",
     "output_type": "stream",
     "text": [
      "0.0"
     ]
    },
    {
     "name": "stderr",
     "output_type": "stream",
     "text": [
      ","
     ]
    },
    {
     "name": "stderr",
     "output_type": "stream",
     "text": [
      " "
     ]
    },
    {
     "name": "stderr",
     "output_type": "stream",
     "text": [
      "self"
     ]
    },
    {
     "name": "stderr",
     "output_type": "stream",
     "text": [
      "."
     ]
    },
    {
     "name": "stderr",
     "output_type": "stream",
     "text": [
      "t1"
     ]
    },
    {
     "name": "stderr",
     "output_type": "stream",
     "text": [
      ":"
     ]
    },
    {
     "name": "stderr",
     "output_type": "stream",
     "text": [
      " "
     ]
    },
    {
     "name": "stderr",
     "output_type": "stream",
     "text": [
      "20.0"
     ]
    },
    {
     "name": "stderr",
     "output_type": "stream",
     "text": [
      ","
     ]
    },
    {
     "name": "stderr",
     "output_type": "stream",
     "text": [
      " "
     ]
    },
    {
     "name": "stderr",
     "output_type": "stream",
     "text": [
      "self"
     ]
    },
    {
     "name": "stderr",
     "output_type": "stream",
     "text": [
      "."
     ]
    },
    {
     "name": "stderr",
     "output_type": "stream",
     "text": [
      "n_steps"
     ]
    },
    {
     "name": "stderr",
     "output_type": "stream",
     "text": [
      ":"
     ]
    },
    {
     "name": "stderr",
     "output_type": "stream",
     "text": [
      " "
     ]
    },
    {
     "name": "stderr",
     "output_type": "stream",
     "text": [
      "8000"
     ]
    },
    {
     "name": "stderr",
     "output_type": "stream",
     "text": [
      "\n"
     ]
    },
    {
     "name": "stderr",
     "output_type": "stream",
     "text": [
      "ic"
     ]
    },
    {
     "name": "stderr",
     "output_type": "stream",
     "text": [
      "|"
     ]
    },
    {
     "name": "stderr",
     "output_type": "stream",
     "text": [
      " "
     ]
    },
    {
     "name": "stderr",
     "output_type": "stream",
     "text": [
      "hasattr"
     ]
    },
    {
     "name": "stderr",
     "output_type": "stream",
     "text": [
      "("
     ]
    },
    {
     "name": "stderr",
     "output_type": "stream",
     "text": [
      "self"
     ]
    },
    {
     "name": "stderr",
     "output_type": "stream",
     "text": [
      ","
     ]
    },
    {
     "name": "stderr",
     "output_type": "stream",
     "text": [
      " "
     ]
    },
    {
     "name": "stderr",
     "output_type": "stream",
     "text": [
      "'"
     ]
    },
    {
     "name": "stderr",
     "output_type": "stream",
     "text": [
      "gs"
     ]
    },
    {
     "name": "stderr",
     "output_type": "stream",
     "text": [
      "'"
     ]
    },
    {
     "name": "stderr",
     "output_type": "stream",
     "text": [
      ")"
     ]
    },
    {
     "name": "stderr",
     "output_type": "stream",
     "text": [
      ":"
     ]
    },
    {
     "name": "stderr",
     "output_type": "stream",
     "text": [
      " "
     ]
    },
    {
     "name": "stderr",
     "output_type": "stream",
     "text": [
      "False"
     ]
    },
    {
     "name": "stderr",
     "output_type": "stream",
     "text": [
      "\n"
     ]
    }
   ],
   "source": [
    "sim = Simulator(verbose=True)\n",
    "sim.set_dimension(2)\n",
    "sim.set_initial_condition(lambda x, y: init_wavefunction(x, y))\n",
    "sim.set_mass(10.0)\n",
    "sim.set_potential(lambda x, y: potential(x,y))\n",
    "sim.set_grid([x_min, y_min], [x_max, y_max], [nx, ny])\n",
    "sim.set_time_parameters(0.0, 20.0, 8000)\n",
    "sim.prepare()\n",
    "\n",
    "\n",
    "\n",
    "\n"
   ]
  },
  {
   "cell_type": "code",
   "execution_count": 4,
   "id": "927842be",
   "metadata": {
    "execution": {
     "iopub.execute_input": "2023-12-19T12:24:36.704675Z",
     "iopub.status.busy": "2023-12-19T12:24:36.704568Z",
     "iopub.status.idle": "2023-12-19T12:24:36.829901Z",
     "shell.execute_reply": "2023-12-19T12:24:36.829029Z"
    },
    "papermill": {
     "duration": 0.130517,
     "end_time": "2023-12-19T12:24:36.832235",
     "exception": false,
     "start_time": "2023-12-19T12:24:36.701718",
     "status": "completed"
    },
    "tags": []
   },
   "outputs": [
    {
     "data": {
      "image/png": "[encoded data removed]",
      "text/plain": [
       "<Figure size 640x480 with 2 Axes>"
      ]
     },
     "metadata": {},
     "output_type": "display_data"
    }
   ],
   "source": [
    "plt.figure()\n",
    "plt.imshow(sim.ham.V.T, origin='lower')\n",
    "plt.title('Potential')\n",
    "plt.colorbar()\n",
    "plt.show()"
   ]
  },
  {
   "cell_type": "code",
   "execution_count": 5,
   "id": "7484333a",
   "metadata": {
    "execution": {
     "iopub.execute_input": "2023-12-19T12:24:36.849500Z",
     "iopub.status.busy": "2023-12-19T12:24:36.849165Z",
     "iopub.status.idle": "2023-12-19T12:28:10.166878Z",
     "shell.execute_reply": "2023-12-19T12:28:10.166531Z"
    },
    "papermill": {
     "duration": 213.328206,
     "end_time": "2023-12-19T12:28:10.167858",
     "exception": false,
     "start_time": "2023-12-19T12:24:36.839652",
     "status": "completed"
    },
    "tags": []
   },
   "outputs": [
    {
     "name": "stderr",
     "output_type": "stream",
     "text": [
      "ic"
     ]
    },
    {
     "name": "stderr",
     "output_type": "stream",
     "text": [
      "|"
     ]
    },
    {
     "name": "stderr",
     "output_type": "stream",
     "text": [
      " "
     ]
    },
    {
     "name": "stderr",
     "output_type": "stream",
     "text": [
      "self"
     ]
    },
    {
     "name": "stderr",
     "output_type": "stream",
     "text": [
      "."
     ]
    },
    {
     "name": "stderr",
     "output_type": "stream",
     "text": [
      "format"
     ]
    },
    {
     "name": "stderr",
     "output_type": "stream",
     "text": [
      ":"
     ]
    },
    {
     "name": "stderr",
     "output_type": "stream",
     "text": [
      " "
     ]
    },
    {
     "name": "stderr",
     "output_type": "stream",
     "text": [
      "'"
     ]
    },
    {
     "name": "stderr",
     "output_type": "stream",
     "text": [
      "./frames1/frame"
     ]
    },
    {
     "name": "stderr",
     "output_type": "stream",
     "text": [
      "%05d"
     ]
    },
    {
     "name": "stderr",
     "output_type": "stream",
     "text": [
      ".png"
     ]
    },
    {
     "name": "stderr",
     "output_type": "stream",
     "text": [
      "'"
     ]
    },
    {
     "name": "stderr",
     "output_type": "stream",
     "text": [
      "\n"
     ]
    },
    {
     "name": "stderr",
     "output_type": "stream",
     "text": [
      "ic"
     ]
    },
    {
     "name": "stderr",
     "output_type": "stream",
     "text": [
      "|"
     ]
    },
    {
     "name": "stderr",
     "output_type": "stream",
     "text": [
      " "
     ]
    },
    {
     "name": "stderr",
     "output_type": "stream",
     "text": [
      "self"
     ]
    },
    {
     "name": "stderr",
     "output_type": "stream",
     "text": [
      "."
     ]
    },
    {
     "name": "stderr",
     "output_type": "stream",
     "text": [
      "format"
     ]
    },
    {
     "name": "stderr",
     "output_type": "stream",
     "text": [
      ":"
     ]
    },
    {
     "name": "stderr",
     "output_type": "stream",
     "text": [
      " "
     ]
    },
    {
     "name": "stderr",
     "output_type": "stream",
     "text": [
      "'"
     ]
    },
    {
     "name": "stderr",
     "output_type": "stream",
     "text": [
      "./frames2/frame"
     ]
    },
    {
     "name": "stderr",
     "output_type": "stream",
     "text": [
      "%05d"
     ]
    },
    {
     "name": "stderr",
     "output_type": "stream",
     "text": [
      ".png"
     ]
    },
    {
     "name": "stderr",
     "output_type": "stream",
     "text": [
      "'"
     ]
    },
    {
     "name": "stderr",
     "output_type": "stream",
     "text": [
      "\n"
     ]
    },
    {
     "name": "stderr",
     "output_type": "stream",
     "text": [
      "ic"
     ]
    },
    {
     "name": "stderr",
     "output_type": "stream",
     "text": [
      "|"
     ]
    },
    {
     "name": "stderr",
     "output_type": "stream",
     "text": [
      " "
     ]
    },
    {
     "name": "stderr",
     "output_type": "stream",
     "text": [
      "'"
     ]
    },
    {
     "name": "stderr",
     "output_type": "stream",
     "text": [
      "inside mpl_style"
     ]
    },
    {
     "name": "stderr",
     "output_type": "stream",
     "text": [
      "'"
     ]
    },
    {
     "name": "stderr",
     "output_type": "stream",
     "text": [
      "\n"
     ]
    },
    {
     "name": "stderr",
     "output_type": "stream",
     "text": [
      "ic"
     ]
    },
    {
     "name": "stderr",
     "output_type": "stream",
     "text": [
      "|"
     ]
    },
    {
     "name": "stderr",
     "output_type": "stream",
     "text": [
      " "
     ]
    },
    {
     "name": "stderr",
     "output_type": "stream",
     "text": [
      "self"
     ]
    },
    {
     "name": "stderr",
     "output_type": "stream",
     "text": [
      "."
     ]
    },
    {
     "name": "stderr",
     "output_type": "stream",
     "text": [
      "caption_font"
     ]
    },
    {
     "name": "stderr",
     "output_type": "stream",
     "text": [
      ":"
     ]
    },
    {
     "name": "stderr",
     "output_type": "stream",
     "text": [
      " "
     ]
    },
    {
     "name": "stderr",
     "output_type": "stream",
     "text": [
      "<"
     ]
    },
    {
     "name": "stderr",
     "output_type": "stream",
     "text": [
      "matplotlib"
     ]
    },
    {
     "name": "stderr",
     "output_type": "stream",
     "text": [
      "."
     ]
    },
    {
     "name": "stderr",
     "output_type": "stream",
     "text": [
      "font_manager"
     ]
    },
    {
     "name": "stderr",
     "output_type": "stream",
     "text": [
      "."
     ]
    },
    {
     "name": "stderr",
     "output_type": "stream",
     "text": [
      "FontProperties"
     ]
    },
    {
     "name": "stderr",
     "output_type": "stream",
     "text": [
      " "
     ]
    },
    {
     "name": "stderr",
     "output_type": "stream",
     "text": [
      "object"
     ]
    },
    {
     "name": "stderr",
     "output_type": "stream",
     "text": [
      " "
     ]
    },
    {
     "name": "stderr",
     "output_type": "stream",
     "text": [
      "at"
     ]
    },
    {
     "name": "stderr",
     "output_type": "stream",
     "text": [
      " "
     ]
    },
    {
     "name": "stderr",
     "output_type": "stream",
     "text": [
      "0x13922df00"
     ]
    },
    {
     "name": "stderr",
     "output_type": "stream",
     "text": [
      ">"
     ]
    },
    {
     "name": "stderr",
     "output_type": "stream",
     "text": [
      "\n"
     ]
    },
    {
     "name": "stderr",
     "output_type": "stream",
     "text": [
      "ic"
     ]
    },
    {
     "name": "stderr",
     "output_type": "stream",
     "text": [
      "|"
     ]
    },
    {
     "name": "stderr",
     "output_type": "stream",
     "text": [
      " "
     ]
    },
    {
     "name": "stderr",
     "output_type": "stream",
     "text": [
      "'"
     ]
    },
    {
     "name": "stderr",
     "output_type": "stream",
     "text": [
      "inside mpl_style"
     ]
    },
    {
     "name": "stderr",
     "output_type": "stream",
     "text": [
      "'"
     ]
    },
    {
     "name": "stderr",
     "output_type": "stream",
     "text": [
      "\n"
     ]
    },
    {
     "name": "stderr",
     "output_type": "stream",
     "text": [
      "ic"
     ]
    },
    {
     "name": "stderr",
     "output_type": "stream",
     "text": [
      "|"
     ]
    },
    {
     "name": "stderr",
     "output_type": "stream",
     "text": [
      " "
     ]
    },
    {
     "name": "stderr",
     "output_type": "stream",
     "text": [
      "self"
     ]
    },
    {
     "name": "stderr",
     "output_type": "stream",
     "text": [
      "."
     ]
    },
    {
     "name": "stderr",
     "output_type": "stream",
     "text": [
      "caption_font"
     ]
    },
    {
     "name": "stderr",
     "output_type": "stream",
     "text": [
      ":"
     ]
    },
    {
     "name": "stderr",
     "output_type": "stream",
     "text": [
      " "
     ]
    },
    {
     "name": "stderr",
     "output_type": "stream",
     "text": [
      "<"
     ]
    },
    {
     "name": "stderr",
     "output_type": "stream",
     "text": [
      "matplotlib"
     ]
    },
    {
     "name": "stderr",
     "output_type": "stream",
     "text": [
      "."
     ]
    },
    {
     "name": "stderr",
     "output_type": "stream",
     "text": [
      "font_manager"
     ]
    },
    {
     "name": "stderr",
     "output_type": "stream",
     "text": [
      "."
     ]
    },
    {
     "name": "stderr",
     "output_type": "stream",
     "text": [
      "FontProperties"
     ]
    },
    {
     "name": "stderr",
     "output_type": "stream",
     "text": [
      " "
     ]
    },
    {
     "name": "stderr",
     "output_type": "stream",
     "text": [
      "object"
     ]
    },
    {
     "name": "stderr",
     "output_type": "stream",
     "text": [
      " "
     ]
    },
    {
     "name": "stderr",
     "output_type": "stream",
     "text": [
      "at"
     ]
    },
    {
     "name": "stderr",
     "output_type": "stream",
     "text": [
      " "
     ]
    },
    {
     "name": "stderr",
     "output_type": "stream",
     "text": [
      "0x139515360"
     ]
    },
    {
     "name": "stderr",
     "output_type": "stream",
     "text": [
      ">"
     ]
    },
    {
     "name": "stderr",
     "output_type": "stream",
     "text": [
      "\n"
     ]
    },
    {
     "name": "stderr",
     "output_type": "stream",
     "text": [
      "ic"
     ]
    },
    {
     "name": "stderr",
     "output_type": "stream",
     "text": [
      "|"
     ]
    },
    {
     "name": "stderr",
     "output_type": "stream",
     "text": [
      " "
     ]
    },
    {
     "name": "stderr",
     "output_type": "stream",
     "text": [
      "'"
     ]
    },
    {
     "name": "stderr",
     "output_type": "stream",
     "text": [
      "Running simulation..."
     ]
    },
    {
     "name": "stderr",
     "output_type": "stream",
     "text": [
      "'"
     ]
    },
    {
     "name": "stderr",
     "output_type": "stream",
     "text": [
      "\n"
     ]
    },
    {
     "data": {
      "application/vnd.jupyter.widget-view+json": {
       "model_id": "b095a524a08c4b059114a93a1bd9a9db",
       "version_major": 2,
       "version_minor": 0
      },
      "text/plain": [
       "  0%|          | 0/8000 [00:00<?, ?it/s]"
      ]
     },
     "metadata": {},
     "output_type": "display_data"
    },
    {
     "name": "stderr",
     "output_type": "stream",
     "text": [
      "ic"
     ]
    },
    {
     "name": "stderr",
     "output_type": "stream",
     "text": [
      "|"
     ]
    },
    {
     "name": "stderr",
     "output_type": "stream",
     "text": [
      " "
     ]
    },
    {
     "name": "stderr",
     "output_type": "stream",
     "text": [
      "len"
     ]
    },
    {
     "name": "stderr",
     "output_type": "stream",
     "text": [
      "("
     ]
    },
    {
     "name": "stderr",
     "output_type": "stream",
     "text": [
      "self"
     ]
    },
    {
     "name": "stderr",
     "output_type": "stream",
     "text": [
      "."
     ]
    },
    {
     "name": "stderr",
     "output_type": "stream",
     "text": [
      "frame_list"
     ]
    },
    {
     "name": "stderr",
     "output_type": "stream",
     "text": [
      ")"
     ]
    },
    {
     "name": "stderr",
     "output_type": "stream",
     "text": [
      ":"
     ]
    },
    {
     "name": "stderr",
     "output_type": "stream",
     "text": [
      " "
     ]
    },
    {
     "name": "stderr",
     "output_type": "stream",
     "text": [
      "801"
     ]
    },
    {
     "name": "stderr",
     "output_type": "stream",
     "text": [
      "\n"
     ]
    },
    {
     "name": "stderr",
     "output_type": "stream",
     "text": [
      "ffmpeg version N-111795-g95433eb3aa-tessus  https://evermeet.cx/ffmpeg/  Copyright (c) 2000-2023 the FFmpeg developers\n",
      "  built with Apple clang version 11.0.0 (clang-1100.0.33.17)\n",
      "  configuration: --cc=/usr/bin/clang --prefix=/opt/ffmpeg --extra-version=tessus --enable-avisynth --enable-fontconfig --enable-gpl --enable-libaom --enable-libass --enable-libbluray --enable-libdav1d --enable-libfreetype --enable-libgsm --enable-libmodplug --enable-libmp3lame --enable-libmysofa --enable-libopencore-amrnb --enable-libopencore-amrwb --enable-libopenh264 --enable-libopenjpeg --enable-libopus --enable-librubberband --enable-libshine --enable-libsnappy --enable-libsoxr --enable-libspeex --enable-libtheora --enable-libtwolame --enable-libvidstab --enable-libvmaf --enable-libvo-amrwbenc --enable-libvorbis --enable-libvpx --enable-libwebp --enable-libx264 --enable-libx265 --enable-libxavs --enable-libxml2 --enable-libxvid --enable-libzimg --enable-libzmq --enable-libzvbi --enable-version3 --pkg-config-flags=--static --disable-ffplay\n",
      "  libavutil      58. 17.100 / 58. 17.100\n",
      "  libavcodec     60. 23.100 / 60. 23.100\n",
      "  libavformat    60. 10.100 / 60. 10.100\n",
      "  libavdevice    60.  2.101 / 60.  2.101\n",
      "  libavfilter     9. 11.100 /  9. 11.100\n",
      "  libswscale      7.  3.100 /  7.  3.100\n",
      "  libswresample   4. 11.100 /  4. 11.100\n",
      "  libpostproc    57.  2.100 / 57.  2.100\n",
      "Input #0, image2, from './frames1/frame%05d.png':\n",
      "  Duration: 00:00:32.04, start: 0.000000, bitrate: N/A\n",
      "  Stream #0:0: Video: png, rgba(pc, gbr/unknown/unknown), 1024x1024 [SAR 4031:4031 DAR 1:1], 25 fps, 25 tbr, 25 tbn\n",
      "Stream mapping:\n",
      "  Stream #0:0 -> #0:0 (png (native) -> h264 (libx264))\n",
      "Press [q] to stop, [?] for help\n",
      "[libx264 @ 0x7ff6110107c0] using SAR=1/1\n",
      "[libx264 @ 0x7ff6110107c0] using cpu capabilities: MMX2 SSE2Fast SSSE3 SSE4.2\n",
      "[libx264 @ 0x7ff6110107c0] profile High, level 3.2, 4:2:0, 8-bit\n",
      "[libx264 @ 0x7ff6110107c0] 264 - core 164 r3107 a8b68eb - H.264/MPEG-4 AVC codec - Copyleft 2003-2023 - http://www.videolan.org/x264.html - options: cabac=1 ref=3 deblock=1:0:0 analyse=0x3:0x113 me=hex subme=7 psy=1 psy_rd=1.00:0.00 mixed_ref=1 me_range=16 chroma_me=1 trellis=1 8x8dct=1 cqm=0 deadzone=21,11 fast_pskip=1 chroma_qp_offset=-2 threads=18 lookahead_threads=3 sliced_threads=0 nr=0 decimate=1 interlaced=0 bluray_compat=0 constrained_intra=0 bframes=3 b_pyramid=2 b_adapt=1 b_bias=0 direct=1 weightb=1 open_gop=0 weightp=2 keyint=250 keyint_min=24 scenecut=40 intra_refresh=0 rc_lookahead=40 rc=crf mbtree=1 crf=23.0 qcomp=0.60 qpmin=0 qpmax=69 qpstep=4 ip_ratio=1.40 aq=1:1.00\n",
      "Output #0, mp4, to 'gravity.mp4':\n",
      "  Metadata:\n",
      "    encoder         : Lavf60.10.100\n",
      "  Stream #0:0: Video: h264 (avc1 / 0x31637661), yuv420p(tv, progressive), 1024x1024 [SAR 1:1 DAR 1:1], q=2-31, 24 fps, 12288 tbn\n",
      "    Metadata:\n",
      "      encoder         : Lavc60.23.100 libx264\n",
      "    Side data:\n",
      "      cpb: bitrate max/min/avg: 0/0/0 buffer size: 0 vbv_delay: N/A\n",
      "frame=    0 fps=0.0 q=0.0 size=       0kB time=N/A bitrate=N/A speed=N/A    \r"
     ]
    },
    {
     "name": "stderr",
     "output_type": "stream",
     "text": [
      "frame=   73 fps=0.0 q=28.0 size=       0kB time=00:00:02.95 bitrate=   0.1kbits/s speed=5.72x    \r"
     ]
    },
    {
     "name": "stderr",
     "output_type": "stream",
     "text": [
      "frame=  203 fps=199 q=28.0 size=       0kB time=00:00:08.37 bitrate=   0.0kbits/s speed=8.23x    \r"
     ]
    },
    {
     "name": "stderr",
     "output_type": "stream",
     "text": [
      "frame=  319 fps=210 q=28.0 size=       0kB time=00:00:13.20 bitrate=   0.0kbits/s speed= 8.7x    \r"
     ]
    },
    {
     "name": "stderr",
     "output_type": "stream",
     "text": [
      "frame=  441 fps=218 q=28.0 size=     256kB time=00:00:18.29 bitrate= 114.7kbits/s speed=9.06x    \r"
     ]
    },
    {
     "name": "stderr",
     "output_type": "stream",
     "text": [
      "frame=  562 fps=223 q=28.0 size=     256kB time=00:00:23.29 bitrate=  90.1kbits/s speed=9.24x    \r"
     ]
    },
    {
     "name": "stderr",
     "output_type": "stream",
     "text": [
      "frame=  663 fps=219 q=28.0 size=     512kB time=00:00:27.54 bitrate= 152.3kbits/s speed=9.11x    \r"
     ]
    },
    {
     "name": "stderr",
     "output_type": "stream",
     "text": [
      "[out#0/mp4 @ 0x7ff611006ac0] video:857kB audio:0kB subtitle:0kB other streams:0kB global headers:0kB muxing overhead: 1.194179%\n",
      "frame=  801 fps=222 q=-1.0 Lsize=     868kB time=00:00:33.25 bitrate= 213.8kbits/s speed=9.19x    \n",
      "[libx264 @ 0x7ff6110107c0] frame I:4     Avg QP: 9.88  size: 20925\n",
      "[libx264 @ 0x7ff6110107c0] frame P:204   Avg QP:22.63  size:  3170\n",
      "[libx264 @ 0x7ff6110107c0] frame B:593   Avg QP:25.88  size:   248\n",
      "[libx264 @ 0x7ff6110107c0] consecutive B-frames:  1.1%  0.5%  0.0% 98.4%\n",
      "[libx264 @ 0x7ff6110107c0] mb I  I16..4: 65.7% 32.5%  1.8%\n",
      "[libx264 @ 0x7ff6110107c0] mb P  I16..4:  0.4%  0.4%  0.0%  P16..4:  8.1%  2.3%  1.3%  0.0%  0.0%    skip:87.5%\n",
      "[libx264 @ 0x7ff6110107c0] mb B  I16..4:  0.0%  0.0%  0.0%  B16..8:  2.9%  0.1%  0.0%  direct: 0.0%  skip:97.0%  L0:47.0% L1:47.6% BI: 5.4%\n",
      "[libx264 @ 0x7ff6110107c0] 8x8 transform intra:36.2% inter:69.9%\n",
      "[libx264 @ 0x7ff6110107c0] coded y,uvDC,uvAC intra: 15.3% 21.0% 14.6% inter: 1.3% 1.8% 0.2%\n",
      "[libx264 @ 0x7ff6110107c0] i16 v,h,dc,p: 68% 16% 11%  5%\n",
      "[libx264 @ 0x7ff6110107c0] i8 v,h,dc,ddl,ddr,vr,hd,vl,hu: 35% 13% 49%  0%  0%  0%  1%  0%  1%\n",
      "[libx264 @ 0x7ff6110107c0] i4 v,h,dc,ddl,ddr,vr,hd,vl,hu: 19% 42% 24%  4%  1%  1%  1%  3%  3%\n",
      "[libx264 @ 0x7ff6110107c0] i8c dc,h,v,p: 81% 14%  3%  2%\n",
      "[libx264 @ 0x7ff6110107c0] Weighted P-Frames: Y:0.0% UV:0.0%\n",
      "[libx264 @ 0x7ff6110107c0] ref P L0: 57.5%  8.4% 28.0%  6.1%\n",
      "[libx264 @ 0x7ff6110107c0] ref B L0: 84.6% 14.3%  1.1%\n",
      "[libx264 @ 0x7ff6110107c0] ref B L1: 98.0%  2.0%\n",
      "[libx264 @ 0x7ff6110107c0] kb/s:210.29\n",
      "ic"
     ]
    },
    {
     "name": "stderr",
     "output_type": "stream",
     "text": [
      "|"
     ]
    },
    {
     "name": "stderr",
     "output_type": "stream",
     "text": [
      " "
     ]
    },
    {
     "name": "stderr",
     "output_type": "stream",
     "text": [
      "len"
     ]
    },
    {
     "name": "stderr",
     "output_type": "stream",
     "text": [
      "("
     ]
    },
    {
     "name": "stderr",
     "output_type": "stream",
     "text": [
      "self"
     ]
    },
    {
     "name": "stderr",
     "output_type": "stream",
     "text": [
      "."
     ]
    },
    {
     "name": "stderr",
     "output_type": "stream",
     "text": [
      "frame_list"
     ]
    },
    {
     "name": "stderr",
     "output_type": "stream",
     "text": [
      ")"
     ]
    },
    {
     "name": "stderr",
     "output_type": "stream",
     "text": [
      ":"
     ]
    },
    {
     "name": "stderr",
     "output_type": "stream",
     "text": [
      " "
     ]
    },
    {
     "name": "stderr",
     "output_type": "stream",
     "text": [
      "801"
     ]
    },
    {
     "name": "stderr",
     "output_type": "stream",
     "text": [
      "\n"
     ]
    },
    {
     "name": "stderr",
     "output_type": "stream",
     "text": [
      "ffmpeg version N-111795-g95433eb3aa-tessus  https://evermeet.cx/ffmpeg/  Copyright (c) 2000-2023 the FFmpeg developers\n",
      "  built with Apple clang version 11.0.0 (clang-1100.0.33.17)\n",
      "  configuration: --cc=/usr/bin/clang --prefix=/opt/ffmpeg --extra-version=tessus --enable-avisynth --enable-fontconfig --enable-gpl --enable-libaom --enable-libass --enable-libbluray --enable-libdav1d --enable-libfreetype --enable-libgsm --enable-libmodplug --enable-libmp3lame --enable-libmysofa --enable-libopencore-amrnb --enable-libopencore-amrwb --enable-libopenh264 --enable-libopenjpeg --enable-libopus --enable-librubberband --enable-libshine --enable-libsnappy --enable-libsoxr --enable-libspeex --enable-libtheora --enable-libtwolame --enable-libvidstab --enable-libvmaf --enable-libvo-amrwbenc --enable-libvorbis --enable-libvpx --enable-libwebp --enable-libx264 --enable-libx265 --enable-libxavs --enable-libxml2 --enable-libxvid --enable-libzimg --enable-libzmq --enable-libzvbi --enable-version3 --pkg-config-flags=--static --disable-ffplay\n",
      "  libavutil      58. 17.100 / 58. 17.100\n",
      "  libavcodec     60. 23.100 / 60. 23.100\n",
      "  libavformat    60. 10.100 / 60. 10.100\n",
      "  libavdevice    60.  2.101 / 60.  2.101\n",
      "  libavfilter     9. 11.100 /  9. 11.100\n",
      "  libswscale      7.  3.100 /  7.  3.100\n",
      "  libswresample   4. 11.100 /  4. 11.100\n",
      "  libpostproc    57.  2.100 / 57.  2.100\n",
      "Input #0, image2, from './frames2/frame%05d.png':\n",
      "  Duration: 00:00:32.04, start: 0.000000, bitrate: N/A\n",
      "  Stream #0:0: Video: png, rgba(pc, gbr/unknown/unknown), 1024x1024 [SAR 4031:4031 DAR 1:1], 25 fps, 25 tbr, 25 tbn\n",
      "Stream mapping:\n",
      "  Stream #0:0 -> #0:0 (png (native) -> h264 (libx264))\n",
      "Press [q] to stop, [?] for help\n",
      "[libx264 @ 0x7fa2f6711340] using SAR=1/1\n",
      "[libx264 @ 0x7fa2f6711340] using cpu capabilities: MMX2 SSE2Fast SSSE3 SSE4.2\n",
      "[libx264 @ 0x7fa2f6711340] profile High, level 3.2, 4:2:0, 8-bit\n",
      "[libx264 @ 0x7fa2f6711340] 264 - core 164 r3107 a8b68eb - H.264/MPEG-4 AVC codec - Copyleft 2003-2023 - http://www.videolan.org/x264.html - options: cabac=1 ref=3 deblock=1:0:0 analyse=0x3:0x113 me=hex subme=7 psy=1 psy_rd=1.00:0.00 mixed_ref=1 me_range=16 chroma_me=1 trellis=1 8x8dct=1 cqm=0 deadzone=21,11 fast_pskip=1 chroma_qp_offset=-2 threads=18 lookahead_threads=3 sliced_threads=0 nr=0 decimate=1 interlaced=0 bluray_compat=0 constrained_intra=0 bframes=3 b_pyramid=2 b_adapt=1 b_bias=0 direct=1 weightb=1 open_gop=0 weightp=2 keyint=250 keyint_min=24 scenecut=40 intra_refresh=0 rc_lookahead=40 rc=crf mbtree=1 crf=23.0 qcomp=0.60 qpmin=0 qpmax=69 qpstep=4 ip_ratio=1.40 aq=1:1.00\n",
      "Output #0, mp4, to 'gravity_magnitude.mp4':\n",
      "  Metadata:\n",
      "    encoder         : Lavf60.10.100\n",
      "  Stream #0:0: Video: h264 (avc1 / 0x31637661), yuv420p(tv, progressive), 1024x1024 [SAR 1:1 DAR 1:1], q=2-31, 24 fps, 12288 tbn\n",
      "    Metadata:\n",
      "      encoder         : Lavc60.23.100 libx264\n",
      "    Side data:\n",
      "      cpb: bitrate max/min/avg: 0/0/0 buffer size: 0 vbv_delay: N/A\n",
      "frame=    0 fps=0.0 q=0.0 size=       0kB time=N/A bitrate=N/A speed=N/A    \r"
     ]
    },
    {
     "name": "stderr",
     "output_type": "stream",
     "text": [
      "frame=   72 fps=0.0 q=28.0 size=       0kB time=00:00:02.91 bitrate=   0.1kbits/s speed= 5.6x    \r"
     ]
    },
    {
     "name": "stderr",
     "output_type": "stream",
     "text": [
      "frame=  195 fps=190 q=28.0 size=       0kB time=00:00:08.04 bitrate=   0.0kbits/s speed=7.85x    \r"
     ]
    },
    {
     "name": "stderr",
     "output_type": "stream",
     "text": [
      "frame=  319 fps=208 q=28.0 size=       0kB time=00:00:13.20 bitrate=   0.0kbits/s speed= 8.6x    \r"
     ]
    },
    {
     "name": "stderr",
     "output_type": "stream",
     "text": [
      "frame=  446 fps=219 q=28.0 size=       0kB time=00:00:18.50 bitrate=   0.0kbits/s speed=9.08x    \r"
     ]
    },
    {
     "name": "stderr",
     "output_type": "stream",
     "text": [
      "frame=  569 fps=224 q=28.0 size=       0kB time=00:00:23.62 bitrate=   0.0kbits/s speed= 9.3x    \r"
     ]
    },
    {
     "name": "stderr",
     "output_type": "stream",
     "text": [
      "frame=  681 fps=224 q=28.0 size=     256kB time=00:00:28.29 bitrate=  74.1kbits/s speed=9.29x    \r"
     ]
    },
    {
     "name": "stderr",
     "output_type": "stream",
     "text": [
      "[out#0/mp4 @ 0x7fa2f6707400] video:355kB audio:0kB subtitle:0kB other streams:0kB global headers:0kB muxing overhead: 2.884136%\n",
      "frame=  801 fps=233 q=-1.0 Lsize=     365kB time=00:00:33.25 bitrate=  89.9kbits/s speed=9.66x    \n",
      "[libx264 @ 0x7fa2f6711340] frame I:4     Avg QP: 9.69  size:  2923\n",
      "[libx264 @ 0x7fa2f6711340] frame P:202   Avg QP:22.88  size:   873\n",
      "[libx264 @ 0x7fa2f6711340] frame B:595   Avg QP:29.72  size:   293\n",
      "[libx264 @ 0x7fa2f6711340] consecutive B-frames:  0.9%  0.2%  0.0% 98.9%\n",
      "[libx264 @ 0x7fa2f6711340] mb I  I16..4: 66.1% 33.0%  0.8%\n",
      "[libx264 @ 0x7fa2f6711340] mb P  I16..4:  1.7%  1.0%  0.1%  P16..4:  5.3%  0.4%  0.1%  0.0%  0.0%    skip:91.4%\n",
      "[libx264 @ 0x7fa2f6711340] mb B  I16..4:  0.0%  0.0%  0.0%  B16..8:  3.9%  0.1%  0.0%  direct: 0.0%  skip:95.9%  L0:51.6% L1:47.1% BI: 1.2%\n",
      "[libx264 @ 0x7fa2f6711340] 8x8 transform intra:34.1% inter:70.6%\n",
      "[libx264 @ 0x7fa2f6711340] coded y,uvDC,uvAC intra: 7.7% 0.0% 0.0% inter: 0.1% 0.0% 0.0%\n",
      "[libx264 @ 0x7fa2f6711340] i16 v,h,dc,p: 42% 27%  2% 30%\n",
      "[libx264 @ 0x7fa2f6711340] i8 v,h,dc,ddl,ddr,vr,hd,vl,hu: 27% 26% 41%  1%  1%  1%  2%  1%  0%\n",
      "[libx264 @ 0x7fa2f6711340] i4 v,h,dc,ddl,ddr,vr,hd,vl,hu: 13% 57% 19%  4%  1%  1%  1%  3%  2%\n",
      "[libx264 @ 0x7fa2f6711340] i8c dc,h,v,p: 97%  3%  0%  0%\n",
      "[libx264 @ 0x7fa2f6711340] Weighted P-Frames: Y:0.0% UV:0.0%\n",
      "[libx264 @ 0x7fa2f6711340] ref P L0: 71.9%  1.2% 22.4%  4.5%\n",
      "[libx264 @ 0x7fa2f6711340] ref B L0: 85.8% 12.1%  2.1%\n",
      "[libx264 @ 0x7fa2f6711340] ref B L1: 95.5%  4.5%\n",
      "[libx264 @ 0x7fa2f6711340] kb/s:86.91\n"
     ]
    }
   ],
   "source": [
    "anim1 = Animator2d(sim, folder='./frames1/')\n",
    "anim1.set_style(DarkTheme())\n",
    "anim1.vis_type = 'complex'\n",
    "anim1.show_axis = False\n",
    "\n",
    "\n",
    "anim2 = Animator2d(sim, folder='./frames2/')\n",
    "anim2.set_style(DarkTheme())\n",
    "anim2.vis_type = 'magnitude'\n",
    "anim2.show_axis = False\n",
    "\n",
    "anim1.set_interval(10)\n",
    "anim1.set_framesize(1024, 1024)\n",
    "anim2.set_interval(10)\n",
    "anim2.set_framesize(1024, 1024)\n",
    "\n",
    "# initialize figure, and add potential visualization\n",
    "anim1.init_figure()\n",
    "anim1.add_potential_visualization_2d(transparent_range=[-50,39])\n",
    "anim2.init_figure()\n",
    "anim2.add_potential_visualization_2d(transparent_range=[-50,39])\n",
    "\n",
    "\n",
    "anim_callback1 = anim1.get_callback()\n",
    "anim_callback2 = anim2.get_callback()\n",
    "\n",
    "def callback(sim):\n",
    "    anim_callback1(sim)\n",
    "    anim_callback2(sim)\n",
    "    \n",
    "sim.simulate(callback=callback)\n",
    "anim1.make_movie(\"gravity.mp4\")\n",
    "anim1.clean_frames()\n",
    "anim2.make_movie(\"gravity_magnitude.mp4\")\n",
    "anim2.clean_frames()"
   ]
  },
  {
   "cell_type": "code",
   "execution_count": null,
   "id": "6070fd60",
   "metadata": {
    "papermill": {
     "duration": 0.005037,
     "end_time": "2023-12-19T12:28:10.178218",
     "exception": false,
     "start_time": "2023-12-19T12:28:10.173181",
     "status": "completed"
    },
    "tags": []
   },
   "outputs": [],
   "source": []
  }
 ],
 "metadata": {
  "kernelspec": {
   "display_name": "Python 3 (ipykernel)",
   "language": "python",
   "name": "python3"
  },
  "language_info": {
   "codemirror_mode": {
    "name": "ipython",
    "version": 3
   },
   "file_extension": ".py",
   "mimetype": "text/x-python",
   "name": "python",
   "nbconvert_exporter": "python",
   "pygments_lexer": "ipython3",
   "version": "3.10.12"
  },
  "papermill": {
   "default_parameters": {},
   "duration": 217.612163,
   "end_time": "2023-12-19T12:28:12.801858",
   "environment_variables": {},
   "exception": null,
   "input_path": "Gravity.ipynb",
   "output_path": "Gravity.ipynb",
   "parameters": {},
   "start_time": "2023-12-19T12:24:35.189695",
   "version": "2.5.0"
  },
  "widgets": {
   "application/vnd.jupyter.widget-state+json": {
    "state": {
     "082fec0114fa41b5b7ae6395d303234a": {
      "model_module": "@jupyter-widgets/controls",
      "model_module_version": "1.5.0",
      "model_name": "DescriptionStyleModel",
      "state": {
       "_model_module": "@jupyter-widgets/controls",
       "_model_module_version": "1.5.0",
       "_model_name": "DescriptionStyleModel",
       "_view_count": null,
       "_view_module": "@jupyter-widgets/base",
       "_view_module_version": "1.2.0",
       "_view_name": "StyleView",
       "description_width": ""
      }
     },
     "88dc058ea36146959a0a63a811c9eaf0": {
      "model_module": "@jupyter-widgets/base",
      "model_module_version": "1.2.0",
      "model_name": "LayoutModel",
      "state": {
       "_model_module": "@jupyter-widgets/base",
       "_model_module_version": "1.2.0",
       "_model_name": "LayoutModel",
       "_view_count": null,
       "_view_module": "@jupyter-widgets/base",
       "_view_module_version": "1.2.0",
       "_view_name": "LayoutView",
       "align_content": null,
       "align_items": null,
       "align_self": null,
       "border": null,
       "bottom": null,
       "display": null,
       "flex": null,
       "flex_flow": null,
       "grid_area": null,
       "grid_auto_columns": null,
       "grid_auto_flow": null,
       "grid_auto_rows": null,
       "grid_column": null,
       "grid_gap": null,
       "grid_row": null,
       "grid_template_areas": null,
       "grid_template_columns": null,
       "grid_template_rows": null,
       "height": null,
       "justify_content": null,
       "justify_items": null,
       "left": null,
       "margin": null,
       "max_height": null,
       "max_width": null,
       "min_height": null,
       "min_width": null,
       "object_fit": null,
       "object_position": null,
       "order": null,
       "overflow": null,
       "overflow_x": null,
       "overflow_y": null,
       "padding": null,
       "right": null,
       "top": null,
       "visibility": null,
       "width": null
      }
     },
     "9e13af43fffb4ee4b1d390cbbd8cef70": {
      "model_module": "@jupyter-widgets/controls",
      "model_module_version": "1.5.0",
      "model_name": "HTMLModel",
      "state": {
       "_dom_classes": [],
       "_model_module": "@jupyter-widgets/controls",
       "_model_module_version": "1.5.0",
       "_model_name": "HTMLModel",
       "_view_count": null,
       "_view_module": "@jupyter-widgets/controls",
       "_view_module_version": "1.5.0",
       "_view_name": "HTMLView",
       "description": "",
       "description_tooltip": null,
       "layout": "IPY_MODEL_c91e2ffa61e14816874953fd0daf421b",
       "placeholder": "​",
       "style": "IPY_MODEL_082fec0114fa41b5b7ae6395d303234a",
       "value": " 8000/8000 [03:25&lt;00:00, 32.49it/s]"
      }
     },
     "b095a524a08c4b059114a93a1bd9a9db": {
      "model_module": "@jupyter-widgets/controls",
      "model_module_version": "1.5.0",
      "model_name": "HBoxModel",
      "state": {
       "_dom_classes": [],
       "_model_module": "@jupyter-widgets/controls",
       "_model_module_version": "1.5.0",
       "_model_name": "HBoxModel",
       "_view_count": null,
       "_view_module": "@jupyter-widgets/controls",
       "_view_module_version": "1.5.0",
       "_view_name": "HBoxView",
       "box_style": "",
       "children": [
        "IPY_MODEL_cc2e4eb7418e4939bc69e5b78ff0af59",
        "IPY_MODEL_b78d23538e984283b101ea38611abb9e",
        "IPY_MODEL_9e13af43fffb4ee4b1d390cbbd8cef70"
       ],
       "layout": "IPY_MODEL_88dc058ea36146959a0a63a811c9eaf0"
      }
     },
     "b78d23538e984283b101ea38611abb9e": {
      "model_module": "@jupyter-widgets/controls",
      "model_module_version": "1.5.0",
      "model_name": "FloatProgressModel",
      "state": {
       "_dom_classes": [],
       "_model_module": "@jupyter-widgets/controls",
       "_model_module_version": "1.5.0",
       "_model_name": "FloatProgressModel",
       "_view_count": null,
       "_view_module": "@jupyter-widgets/controls",
       "_view_module_version": "1.5.0",
       "_view_name": "ProgressView",
       "bar_style": "success",
       "description": "",
       "description_tooltip": null,
       "layout": "IPY_MODEL_c75ffd1862ac404db8bd1ad85d42c209",
       "max": 8000.0,
       "min": 0.0,
       "orientation": "horizontal",
       "style": "IPY_MODEL_f013bd98fc414536a5a4d85e98e44a0c",
       "value": 8000.0
      }
     },
     "c190636a973e4e12867fd3090de360b1": {
      "model_module": "@jupyter-widgets/controls",
      "model_module_version": "1.5.0",
      "model_name": "DescriptionStyleModel",
      "state": {
       "_model_module": "@jupyter-widgets/controls",
       "_model_module_version": "1.5.0",
       "_model_name": "DescriptionStyleModel",
       "_view_count": null,
       "_view_module": "@jupyter-widgets/base",
       "_view_module_version": "1.2.0",
       "_view_name": "StyleView",
       "description_width": ""
      }
     },
     "c75ffd1862ac404db8bd1ad85d42c209": {
      "model_module": "@jupyter-widgets/base",
      "model_module_version": "1.2.0",
      "model_name": "LayoutModel",
      "state": {
       "_model_module": "@jupyter-widgets/base",
       "_model_module_version": "1.2.0",
       "_model_name": "LayoutModel",
       "_view_count": null,
       "_view_module": "@jupyter-widgets/base",
       "_view_module_version": "1.2.0",
       "_view_name": "LayoutView",
       "align_content": null,
       "align_items": null,
       "align_self": null,
       "border": null,
       "bottom": null,
       "display": null,
       "flex": null,
       "flex_flow": null,
       "grid_area": null,
       "grid_auto_columns": null,
       "grid_auto_flow": null,
       "grid_auto_rows": null,
       "grid_column": null,
       "grid_gap": null,
       "grid_row": null,
       "grid_template_areas": null,
       "grid_template_columns": null,
       "grid_template_rows": null,
       "height": null,
       "justify_content": null,
       "justify_items": null,
       "left": null,
       "margin": null,
       "max_height": null,
       "max_width": null,
       "min_height": null,
       "min_width": null,
       "object_fit": null,
       "object_position": null,
       "order": null,
       "overflow": null,
       "overflow_x": null,
       "overflow_y": null,
       "padding": null,
       "right": null,
       "top": null,
       "visibility": null,
       "width": null
      }
     },
     "c91e2ffa61e14816874953fd0daf421b": {
      "model_module": "@jupyter-widgets/base",
      "model_module_version": "1.2.0",
      "model_name": "LayoutModel",
      "state": {
       "_model_module": "@jupyter-widgets/base",
       "_model_module_version": "1.2.0",
       "_model_name": "LayoutModel",
       "_view_count": null,
       "_view_module": "@jupyter-widgets/base",
       "_view_module_version": "1.2.0",
       "_view_name": "LayoutView",
       "align_content": null,
       "align_items": null,
       "align_self": null,
       "border": null,
       "bottom": null,
       "display": null,
       "flex": null,
       "flex_flow": null,
       "grid_area": null,
       "grid_auto_columns": null,
       "grid_auto_flow": null,
       "grid_auto_rows": null,
       "grid_column": null,
       "grid_gap": null,
       "grid_row": null,
       "grid_template_areas": null,
       "grid_template_columns": null,
       "grid_template_rows": null,
       "height": null,
       "justify_content": null,
       "justify_items": null,
       "left": null,
       "margin": null,
       "max_height": null,
       "max_width": null,
       "min_height": null,
       "min_width": null,
       "object_fit": null,
       "object_position": null,
       "order": null,
       "overflow": null,
       "overflow_x": null,
       "overflow_y": null,
       "padding": null,
       "right": null,
       "top": null,
       "visibility": null,
       "width": null
      }
     },
     "cb82edf00f324c5391cb7e44ddcd9aed": {
      "model_module": "@jupyter-widgets/base",
      "model_module_version": "1.2.0",
      "model_name": "LayoutModel",
      "state": {
       "_model_module": "@jupyter-widgets/base",
       "_model_module_version": "1.2.0",
       "_model_name": "LayoutModel",
       "_view_count": null,
       "_view_module": "@jupyter-widgets/base",
       "_view_module_version": "1.2.0",
       "_view_name": "LayoutView",
       "align_content": null,
       "align_items": null,
       "align_self": null,
       "border": null,
       "bottom": null,
       "display": null,
       "flex": null,
       "flex_flow": null,
       "grid_area": null,
       "grid_auto_columns": null,
       "grid_auto_flow": null,
       "grid_auto_rows": null,
       "grid_column": null,
       "grid_gap": null,
       "grid_row": null,
       "grid_template_areas": null,
       "grid_template_columns": null,
       "grid_template_rows": null,
       "height": null,
       "justify_content": null,
       "justify_items": null,
       "left": null,
       "margin": null,
       "max_height": null,
       "max_width": null,
       "min_height": null,
       "min_width": null,
       "object_fit": null,
       "object_position": null,
       "order": null,
       "overflow": null,
       "overflow_x": null,
       "overflow_y": null,
       "padding": null,
       "right": null,
       "top": null,
       "visibility": null,
       "width": null
      }
     },
     "cc2e4eb7418e4939bc69e5b78ff0af59": {
      "model_module": "@jupyter-widgets/controls",
      "model_module_version": "1.5.0",
      "model_name": "HTMLModel",
      "state": {
       "_dom_classes": [],
       "_model_module": "@jupyter-widgets/controls",
       "_model_module_version": "1.5.0",
       "_model_name": "HTMLModel",
       "_view_count": null,
       "_view_module": "@jupyter-widgets/controls",
       "_view_module_version": "1.5.0",
       "_view_name": "HTMLView",
       "description": "",
       "description_tooltip": null,
       "layout": "IPY_MODEL_cb82edf00f324c5391cb7e44ddcd9aed",
       "placeholder": "​",
       "style": "IPY_MODEL_c190636a973e4e12867fd3090de360b1",
       "value": "100%"
      }
     },
     "f013bd98fc414536a5a4d85e98e44a0c": {
      "model_module": "@jupyter-widgets/controls",
      "model_module_version": "1.5.0",
      "model_name": "ProgressStyleModel",
      "state": {
       "_model_module": "@jupyter-widgets/controls",
       "_model_module_version": "1.5.0",
       "_model_name": "ProgressStyleModel",
       "_view_count": null,
       "_view_module": "@jupyter-widgets/base",
       "_view_module_version": "1.2.0",
       "_view_name": "StyleView",
       "bar_color": null,
       "description_width": ""
      }
     }
    },
    "version_major": 2,
    "version_minor": 0
   }
  }
 },
 "nbformat": 4,
 "nbformat_minor": 5
}