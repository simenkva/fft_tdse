{
 "cells": [
  {
   "cell_type": "code",
   "execution_count": 1,
   "id": "4e340edf",
   "metadata": {
    "execution": {
     "iopub.execute_input": "2023-12-19T13:30:41.832862Z",
     "iopub.status.busy": "2023-12-19T13:30:41.832534Z",
     "iopub.status.idle": "2023-12-19T13:30:42.343521Z",
     "shell.execute_reply": "2023-12-19T13:30:42.343112Z"
    },
    "papermill": {
     "duration": 0.519338,
     "end_time": "2023-12-19T13:30:42.344785",
     "exception": false,
     "start_time": "2023-12-19T13:30:41.825447",
     "status": "completed"
    },
    "tags": []
   },
   "outputs": [],
   "source": [
    "import numpy as np\n",
    "from fft_tdse.simulator import *\n",
    "from fft_tdse.animator import *\n",
    "import matplotlib.colors as colors\n",
    "import matplotlib.pyplot as plt"
   ]
  },
  {
   "cell_type": "code",
   "execution_count": 2,
   "id": "6b9c9ae3",
   "metadata": {
    "execution": {
     "iopub.execute_input": "2023-12-19T13:30:42.348769Z",
     "iopub.status.busy": "2023-12-19T13:30:42.348541Z",
     "iopub.status.idle": "2023-12-19T13:30:42.350713Z",
     "shell.execute_reply": "2023-12-19T13:30:42.350495Z"
    },
    "papermill": {
     "duration": 0.005031,
     "end_time": "2023-12-19T13:30:42.351569",
     "exception": false,
     "start_time": "2023-12-19T13:30:42.346538",
     "status": "completed"
    },
    "tags": []
   },
   "outputs": [],
   "source": [
    "x_min = -400.0\n",
    "x_max = 400.0\n",
    "nx = 4096\n",
    "\n",
    "def potential(x):\n",
    "    V = -0.5 * (x*x + 0.25)**(-.5)\n",
    "    return V\n",
    "\n",
    "\n",
    "\n"
   ]
  },
  {
   "cell_type": "code",
   "execution_count": 3,
   "id": "fdbd7b3b",
   "metadata": {
    "execution": {
     "iopub.execute_input": "2023-12-19T13:30:42.355078Z",
     "iopub.status.busy": "2023-12-19T13:30:42.354982Z",
     "iopub.status.idle": "2023-12-19T13:30:42.996949Z",
     "shell.execute_reply": "2023-12-19T13:30:42.995255Z"
    },
    "papermill": {
     "duration": 0.647007,
     "end_time": "2023-12-19T13:30:43.000147",
     "exception": false,
     "start_time": "2023-12-19T13:30:42.353140",
     "status": "completed"
    },
    "scrolled": false,
    "tags": []
   },
   "outputs": [
    {
     "name": "stderr",
     "output_type": "stream",
     "text": [
      "ic"
     ]
    },
    {
     "name": "stderr",
     "output_type": "stream",
     "text": [
      "|"
     ]
    },
    {
     "name": "stderr",
     "output_type": "stream",
     "text": [
      " "
     ]
    },
    {
     "name": "stderr",
     "output_type": "stream",
     "text": [
      "message"
     ]
    },
    {
     "name": "stderr",
     "output_type": "stream",
     "text": [
      ":"
     ]
    },
    {
     "name": "stderr",
     "output_type": "stream",
     "text": [
      " "
     ]
    },
    {
     "name": "stderr",
     "output_type": "stream",
     "text": [
      "'"
     ]
    },
    {
     "name": "stderr",
     "output_type": "stream",
     "text": [
      "Dimension set to 1"
     ]
    },
    {
     "name": "stderr",
     "output_type": "stream",
     "text": [
      "'"
     ]
    },
    {
     "name": "stderr",
     "output_type": "stream",
     "text": [
      "\n"
     ]
    },
    {
     "name": "stderr",
     "output_type": "stream",
     "text": [
      "ic"
     ]
    },
    {
     "name": "stderr",
     "output_type": "stream",
     "text": [
      "|"
     ]
    },
    {
     "name": "stderr",
     "output_type": "stream",
     "text": [
      " "
     ]
    },
    {
     "name": "stderr",
     "output_type": "stream",
     "text": [
      "'"
     ]
    },
    {
     "name": "stderr",
     "output_type": "stream",
     "text": [
      "Time grid:"
     ]
    },
    {
     "name": "stderr",
     "output_type": "stream",
     "text": [
      "'"
     ]
    },
    {
     "name": "stderr",
     "output_type": "stream",
     "text": [
      "\n"
     ]
    },
    {
     "name": "stderr",
     "output_type": "stream",
     "text": [
      "ic"
     ]
    },
    {
     "name": "stderr",
     "output_type": "stream",
     "text": [
      "|"
     ]
    },
    {
     "name": "stderr",
     "output_type": "stream",
     "text": [
      " "
     ]
    },
    {
     "name": "stderr",
     "output_type": "stream",
     "text": [
      "self"
     ]
    },
    {
     "name": "stderr",
     "output_type": "stream",
     "text": [
      "."
     ]
    },
    {
     "name": "stderr",
     "output_type": "stream",
     "text": [
      "t0"
     ]
    },
    {
     "name": "stderr",
     "output_type": "stream",
     "text": [
      ":"
     ]
    },
    {
     "name": "stderr",
     "output_type": "stream",
     "text": [
      " "
     ]
    },
    {
     "name": "stderr",
     "output_type": "stream",
     "text": [
      "0.0"
     ]
    },
    {
     "name": "stderr",
     "output_type": "stream",
     "text": [
      ","
     ]
    },
    {
     "name": "stderr",
     "output_type": "stream",
     "text": [
      " "
     ]
    },
    {
     "name": "stderr",
     "output_type": "stream",
     "text": [
      "self"
     ]
    },
    {
     "name": "stderr",
     "output_type": "stream",
     "text": [
      "."
     ]
    },
    {
     "name": "stderr",
     "output_type": "stream",
     "text": [
      "t1"
     ]
    },
    {
     "name": "stderr",
     "output_type": "stream",
     "text": [
      ":"
     ]
    },
    {
     "name": "stderr",
     "output_type": "stream",
     "text": [
      " "
     ]
    },
    {
     "name": "stderr",
     "output_type": "stream",
     "text": [
      "150.0"
     ]
    },
    {
     "name": "stderr",
     "output_type": "stream",
     "text": [
      ","
     ]
    },
    {
     "name": "stderr",
     "output_type": "stream",
     "text": [
      " "
     ]
    },
    {
     "name": "stderr",
     "output_type": "stream",
     "text": [
      "self"
     ]
    },
    {
     "name": "stderr",
     "output_type": "stream",
     "text": [
      "."
     ]
    },
    {
     "name": "stderr",
     "output_type": "stream",
     "text": [
      "n_steps"
     ]
    },
    {
     "name": "stderr",
     "output_type": "stream",
     "text": [
      ":"
     ]
    },
    {
     "name": "stderr",
     "output_type": "stream",
     "text": [
      " "
     ]
    },
    {
     "name": "stderr",
     "output_type": "stream",
     "text": [
      "15000"
     ]
    },
    {
     "name": "stderr",
     "output_type": "stream",
     "text": [
      "\n"
     ]
    },
    {
     "name": "stderr",
     "output_type": "stream",
     "text": [
      "ic"
     ]
    },
    {
     "name": "stderr",
     "output_type": "stream",
     "text": [
      "|"
     ]
    },
    {
     "name": "stderr",
     "output_type": "stream",
     "text": [
      " "
     ]
    },
    {
     "name": "stderr",
     "output_type": "stream",
     "text": [
      "hasattr"
     ]
    },
    {
     "name": "stderr",
     "output_type": "stream",
     "text": [
      "("
     ]
    },
    {
     "name": "stderr",
     "output_type": "stream",
     "text": [
      "self"
     ]
    },
    {
     "name": "stderr",
     "output_type": "stream",
     "text": [
      ","
     ]
    },
    {
     "name": "stderr",
     "output_type": "stream",
     "text": [
      " "
     ]
    },
    {
     "name": "stderr",
     "output_type": "stream",
     "text": [
      "'"
     ]
    },
    {
     "name": "stderr",
     "output_type": "stream",
     "text": [
      "gs"
     ]
    },
    {
     "name": "stderr",
     "output_type": "stream",
     "text": [
      "'"
     ]
    },
    {
     "name": "stderr",
     "output_type": "stream",
     "text": [
      ")"
     ]
    },
    {
     "name": "stderr",
     "output_type": "stream",
     "text": [
      ":"
     ]
    },
    {
     "name": "stderr",
     "output_type": "stream",
     "text": [
      " "
     ]
    },
    {
     "name": "stderr",
     "output_type": "stream",
     "text": [
      "False"
     ]
    },
    {
     "name": "stderr",
     "output_type": "stream",
     "text": [
      "\n"
     ]
    },
    {
     "name": "stderr",
     "output_type": "stream",
     "text": [
      "ic"
     ]
    },
    {
     "name": "stderr",
     "output_type": "stream",
     "text": [
      "|"
     ]
    },
    {
     "name": "stderr",
     "output_type": "stream",
     "text": [
      " "
     ]
    },
    {
     "name": "stderr",
     "output_type": "stream",
     "text": [
      "'"
     ]
    },
    {
     "name": "stderr",
     "output_type": "stream",
     "text": [
      "computing ground state ... "
     ]
    },
    {
     "name": "stderr",
     "output_type": "stream",
     "text": [
      "'"
     ]
    },
    {
     "name": "stderr",
     "output_type": "stream",
     "text": [
      "\n"
     ]
    },
    {
     "name": "stderr",
     "output_type": "stream",
     "text": [
      "ic"
     ]
    },
    {
     "name": "stderr",
     "output_type": "stream",
     "text": [
      "|"
     ]
    },
    {
     "name": "stderr",
     "output_type": "stream",
     "text": [
      " "
     ]
    },
    {
     "name": "stderr",
     "output_type": "stream",
     "text": [
      "'"
     ]
    },
    {
     "name": "stderr",
     "output_type": "stream",
     "text": [
      "not using guess for ground state ... "
     ]
    },
    {
     "name": "stderr",
     "output_type": "stream",
     "text": [
      "'"
     ]
    },
    {
     "name": "stderr",
     "output_type": "stream",
     "text": [
      "\n"
     ]
    },
    {
     "name": "stdout",
     "output_type": "stream",
     "text": [
      "Initial guess: resid = 38.597603969649334, E = 42.4553109107129\n",
      "Iteration 0, delta = 0.9963778280911556, resid = 3.1237028127126574, E = 0.820922335701898\n",
      "Iteration 1, delta = 0.35410816181490057, resid = 0.422481557437477, E = 0.13623534691576328\n",
      "Iteration 2, delta = 0.34566906973436723, resid = 0.3278845380923763, E = -0.09449226049569723\n",
      "Iteration 3, delta = 0.38326326782458653, resid = 0.2716862389353049, E = -0.3307847808832768\n",
      "Iteration 4, delta = 0.2790782380522637, resid = 0.15726372569336422, E = -0.4530824601864185\n",
      "Iteration 5, delta = 0.15123688533978494, resid = 0.07797955158342854, E = -0.48882110713475496\n",
      "Iteration 6, delta = 0.07436503789075619, resid = 0.03745350819387144, E = -0.497401022613022\n",
      "Iteration 7, delta = 0.03593975413796826, resid = 0.018000470826043904, E = -0.499391380307333\n",
      "Iteration 8, delta = 0.017408511512485823, resid = 0.008707756612197626, E = -0.49985574551615375\n",
      "Iteration 9, delta = 0.008480125710950337, resid = 0.00424047033229907, E = -0.49996542993556387\n",
      "Iteration 10, delta = 0.004154275876791526, resid = 0.0020771860352947437, E = -0.49999165088377007\n",
      "Iteration 11, delta = 0.002045605976512272, resid = 0.0010228086711807879, E = -0.4999979870152237\n",
      "Iteration 12, delta = 0.0010120374170362895, resid = 0.0005060193384585077, E = -0.4999995330676536\n",
      "Iteration 13, delta = 0.0005029202115834944, resid = 0.00025146014116716743, E = -0.4999999137429898\n",
      "Iteration 14, delta = 0.00025099579040562507, resid = 0.0001254978653288746, E = -0.5000000082907468\n",
      "Iteration 15, delta = 0.00012579960680398895, resid = 6.289975517238474e-05, E = -0.5000000319743164\n",
      "Iteration 16, delta = 6.332141674522152e-05, resid = 3.16606735634812e-05, E = -0.5000000379577234\n",
      "Iteration 17, delta = 3.201233044824596e-05, resid = 1.600613442668347e-05, E = -0.5000000394825317\n",
      "Iteration 18, delta = 1.625666818417613e-05, resid = 8.12830958681105e-06, E = -0.5000000398745835\n",
      "Iteration 19, delta = 8.293837313999682e-06, resid = 4.146880240171243e-06, E = -0.5000000399763123\n",
      "Iteration 20, delta = 4.251567954793246e-06, resid = 2.1257615819657217e-06, E = -0.5000000400029567\n",
      "Iteration 21, delta = 2.1901466941634873e-06, resid = 1.0950614658620608e-06, E = -0.5000000400100152\n",
      "Iteration 22, delta = 1.1339226125827702e-06, resid = 5.669374301437461e-07, E = -0.500000040011901\n",
      "Iteration 23, delta = 5.900588928599634e-07, resid = 2.9501393744303755e-07, E = -0.5000000400124089\n",
      "Iteration 24, delta = 3.086207724820104e-07, resid = 1.5430499462917955e-07, E = -0.5000000400125453\n",
      "Iteration 25, delta = 1.6223812936869893e-07, resid = 8.112662049300374e-08, E = -0.5000000400125755\n"
     ]
    },
    {
     "name": "stderr",
     "output_type": "stream",
     "text": [
      "ic"
     ]
    },
    {
     "name": "stderr",
     "output_type": "stream",
     "text": [
      "|"
     ]
    },
    {
     "name": "stderr",
     "output_type": "stream",
     "text": [
      " "
     ]
    },
    {
     "name": "stderr",
     "output_type": "stream",
     "text": [
      "hasattr"
     ]
    },
    {
     "name": "stderr",
     "output_type": "stream",
     "text": [
      "("
     ]
    },
    {
     "name": "stderr",
     "output_type": "stream",
     "text": [
      "self"
     ]
    },
    {
     "name": "stderr",
     "output_type": "stream",
     "text": [
      ","
     ]
    },
    {
     "name": "stderr",
     "output_type": "stream",
     "text": [
      " "
     ]
    },
    {
     "name": "stderr",
     "output_type": "stream",
     "text": [
      "'"
     ]
    },
    {
     "name": "stderr",
     "output_type": "stream",
     "text": [
      "gs"
     ]
    },
    {
     "name": "stderr",
     "output_type": "stream",
     "text": [
      "'"
     ]
    },
    {
     "name": "stderr",
     "output_type": "stream",
     "text": [
      ")"
     ]
    },
    {
     "name": "stderr",
     "output_type": "stream",
     "text": [
      ":"
     ]
    },
    {
     "name": "stderr",
     "output_type": "stream",
     "text": [
      " "
     ]
    },
    {
     "name": "stderr",
     "output_type": "stream",
     "text": [
      "True"
     ]
    },
    {
     "name": "stderr",
     "output_type": "stream",
     "text": [
      "\n"
     ]
    },
    {
     "name": "stdout",
     "output_type": "stream",
     "text": [
      "Iteration 26, delta = 8.571945881908158e-08, resid = 4.2870805127743654e-08, E = -0.5000000400125841\n",
      "Iteration 27, delta = 4.551859093834218e-08, resid = 2.2766947997348027e-08, E = -0.5000000400125866\n",
      "Iteration 28, delta = 2.428466751869612e-08, resid = 1.2150436640961916e-08, E = -0.5000000400125876\n",
      "Iteration 29, delta = 1.299889352226641e-08, resid = 6.531449704116357e-09, E = -0.5000000400125874\n",
      "Iteration 30, delta = 6.985925946987902e-09, resid = 3.5444453840334954e-09, E = -0.5000000400125876\n",
      "Iteration 31, delta = 3.702700604852247e-09, resid = 1.997682442155323e-09, E = -0.5000000400125877\n",
      "Iteration 32, delta = 1.9788517661901023e-09, resid = 1.183944388086477e-09, E = -0.5000000400125878\n",
      "Iteration 33, delta = 1.120576315526529e-09, resid = 7.299622764734577e-10, E = -0.5000000400125879\n",
      "Iteration 34, delta = 6.518188441947329e-10, resid = 5.866380865441987e-10, E = -0.5000000400125878\n",
      "Iteration 35, delta = 3.8557373627236843e-10, resid = 3.2809146045169566e-10, E = -0.5000000400125876\n",
      "Iteration 36, delta = 2.246942031691493e-10, resid = 1.9965223214181536e-10, E = -0.5000000400125875\n",
      "Iteration 37, delta = 1.3319647402470159e-10, resid = 1.1786652969070818e-10, E = -0.5000000400125877\n",
      "Iteration 38, delta = 7.587519085103888e-11, resid = 7.354526017251145e-11, E = -0.5000000400125877\n",
      "Iteration 39, delta = 4.525567490948306e-11, resid = 3.2615401648209134e-11, E = -0.500000040012588\n",
      "Iteration 40, delta = 2.6404030584338302e-11, resid = 2.5475057584383747e-11, E = -0.5000000400125878\n",
      "Iteration 41, delta = 1.5818585798731733e-11, resid = 1.318231487883287e-11, E = -0.5000000400125875\n",
      "Iteration 42, delta = 9.187215764562831e-12, resid = 8.330060819497576e-12, E = -0.5000000400125877\n",
      "Iteration 43, delta = 5.51796817234698e-12, resid = 5.1016071013394535e-12, E = -0.5000000400125879\n",
      "Iteration 44, delta = 3.2721968612732547e-12, resid = 2.8636978107642988e-12, E = -0.5000000400125877\n",
      "Iteration 45, delta = 1.9601095558916395e-12, resid = 1.894235444114279e-12, E = -0.5000000400125876\n",
      "Iteration 46, delta = 1.1303109788760147e-12, resid = 9.807150242144923e-13, E = -0.5000000400125875\n",
      "Iteration 47, delta = 6.800722671248994e-13, resid = 6.228800016679474e-13, E = -0.5000000400125876\n",
      "Inverse iterations terminated successfully.\n"
     ]
    },
    {
     "data": {
      "image/png": "[encoded data removed]",
      "text/plain": [
       "<Figure size 640x480 with 1 Axes>"
      ]
     },
     "metadata": {},
     "output_type": "display_data"
    },
    {
     "data": {
      "image/png": "[encoded data removed]",
      "text/plain": [
       "<Figure size 640x480 with 1 Axes>"
      ]
     },
     "metadata": {},
     "output_type": "display_data"
    }
   ],
   "source": [
    "sim = Simulator(verbose=True)\n",
    "sim.set_dimension(1)\n",
    "sim.set_potential(potential)\n",
    "sim.set_grid(x_min, x_max, nx)\n",
    "#sim.set_ground_state_grid(-50,50,512)\n",
    "sim.set_time_parameters(0.0, 150.0, 15000)\n",
    "#sim.ground_state_guess =  sim.x * np.exp(-sim.x**2/2)\n",
    "#sim.wf.setPsi(sim.wf.psi * np.exp(1j*sim.x))\n",
    "\n",
    "laser = LaserPulse(omega=0.25, t0=20.0, T=60.0, E0=0.1)\n",
    "sim.set_laser_pulse(laser)\n",
    "\n",
    "sim.prepare()\n",
    "\n",
    "\n",
    "plt.figure()\n",
    "plt.plot(sim.x,potential(sim.x))\n",
    "plt.xlabel('x')\n",
    "plt.title('Potential energy V(x)')\n",
    "plt.show()\n",
    "\n",
    "plt.figure()\n",
    "plt.plot(sim.x,sim.psi.real)\n",
    "plt.xlabel('x')\n",
    "plt.title('Wavefunction at t=0')\n",
    "plt.show()\n"
   ]
  },
  {
   "cell_type": "code",
   "execution_count": 4,
   "id": "9678599a",
   "metadata": {
    "execution": {
     "iopub.execute_input": "2023-12-19T13:30:43.013935Z",
     "iopub.status.busy": "2023-12-19T13:30:43.013782Z",
     "iopub.status.idle": "2023-12-19T13:31:09.281451Z",
     "shell.execute_reply": "2023-12-19T13:31:09.279570Z"
    },
    "papermill": {
     "duration": 26.274434,
     "end_time": "2023-12-19T13:31:09.283553",
     "exception": false,
     "start_time": "2023-12-19T13:30:43.009119",
     "status": "completed"
    },
    "tags": []
   },
   "outputs": [
    {
     "name": "stderr",
     "output_type": "stream",
     "text": [
      "ic"
     ]
    },
    {
     "name": "stderr",
     "output_type": "stream",
     "text": [
      "|"
     ]
    },
    {
     "name": "stderr",
     "output_type": "stream",
     "text": [
      " "
     ]
    },
    {
     "name": "stderr",
     "output_type": "stream",
     "text": [
      "hasattr"
     ]
    },
    {
     "name": "stderr",
     "output_type": "stream",
     "text": [
      "("
     ]
    },
    {
     "name": "stderr",
     "output_type": "stream",
     "text": [
      "self"
     ]
    },
    {
     "name": "stderr",
     "output_type": "stream",
     "text": [
      ","
     ]
    },
    {
     "name": "stderr",
     "output_type": "stream",
     "text": [
      " "
     ]
    },
    {
     "name": "stderr",
     "output_type": "stream",
     "text": [
      "'"
     ]
    },
    {
     "name": "stderr",
     "output_type": "stream",
     "text": [
      "gs"
     ]
    },
    {
     "name": "stderr",
     "output_type": "stream",
     "text": [
      "'"
     ]
    },
    {
     "name": "stderr",
     "output_type": "stream",
     "text": [
      ")"
     ]
    },
    {
     "name": "stderr",
     "output_type": "stream",
     "text": [
      ":"
     ]
    },
    {
     "name": "stderr",
     "output_type": "stream",
     "text": [
      " "
     ]
    },
    {
     "name": "stderr",
     "output_type": "stream",
     "text": [
      "True"
     ]
    },
    {
     "name": "stderr",
     "output_type": "stream",
     "text": [
      "\n"
     ]
    },
    {
     "name": "stderr",
     "output_type": "stream",
     "text": [
      "ic"
     ]
    },
    {
     "name": "stderr",
     "output_type": "stream",
     "text": [
      "|"
     ]
    },
    {
     "name": "stderr",
     "output_type": "stream",
     "text": [
      " "
     ]
    },
    {
     "name": "stderr",
     "output_type": "stream",
     "text": [
      "'"
     ]
    },
    {
     "name": "stderr",
     "output_type": "stream",
     "text": [
      "reusing ground state from previous computation"
     ]
    },
    {
     "name": "stderr",
     "output_type": "stream",
     "text": [
      "'"
     ]
    },
    {
     "name": "stderr",
     "output_type": "stream",
     "text": [
      "\n"
     ]
    },
    {
     "name": "stderr",
     "output_type": "stream",
     "text": [
      "ic"
     ]
    },
    {
     "name": "stderr",
     "output_type": "stream",
     "text": [
      "|"
     ]
    },
    {
     "name": "stderr",
     "output_type": "stream",
     "text": [
      " "
     ]
    },
    {
     "name": "stderr",
     "output_type": "stream",
     "text": [
      "self"
     ]
    },
    {
     "name": "stderr",
     "output_type": "stream",
     "text": [
      "."
     ]
    },
    {
     "name": "stderr",
     "output_type": "stream",
     "text": [
      "format"
     ]
    },
    {
     "name": "stderr",
     "output_type": "stream",
     "text": [
      ":"
     ]
    },
    {
     "name": "stderr",
     "output_type": "stream",
     "text": [
      " "
     ]
    },
    {
     "name": "stderr",
     "output_type": "stream",
     "text": [
      "'"
     ]
    },
    {
     "name": "stderr",
     "output_type": "stream",
     "text": [
      "./frames/frame"
     ]
    },
    {
     "name": "stderr",
     "output_type": "stream",
     "text": [
      "%05d"
     ]
    },
    {
     "name": "stderr",
     "output_type": "stream",
     "text": [
      ".png"
     ]
    },
    {
     "name": "stderr",
     "output_type": "stream",
     "text": [
      "'"
     ]
    },
    {
     "name": "stderr",
     "output_type": "stream",
     "text": [
      "\n"
     ]
    },
    {
     "name": "stderr",
     "output_type": "stream",
     "text": [
      "ic"
     ]
    },
    {
     "name": "stderr",
     "output_type": "stream",
     "text": [
      "|"
     ]
    },
    {
     "name": "stderr",
     "output_type": "stream",
     "text": [
      " "
     ]
    },
    {
     "name": "stderr",
     "output_type": "stream",
     "text": [
      "'"
     ]
    },
    {
     "name": "stderr",
     "output_type": "stream",
     "text": [
      "inside mpl_style"
     ]
    },
    {
     "name": "stderr",
     "output_type": "stream",
     "text": [
      "'"
     ]
    },
    {
     "name": "stderr",
     "output_type": "stream",
     "text": [
      "\n"
     ]
    },
    {
     "name": "stderr",
     "output_type": "stream",
     "text": [
      "ic"
     ]
    },
    {
     "name": "stderr",
     "output_type": "stream",
     "text": [
      "|"
     ]
    },
    {
     "name": "stderr",
     "output_type": "stream",
     "text": [
      " "
     ]
    },
    {
     "name": "stderr",
     "output_type": "stream",
     "text": [
      "self"
     ]
    },
    {
     "name": "stderr",
     "output_type": "stream",
     "text": [
      "."
     ]
    },
    {
     "name": "stderr",
     "output_type": "stream",
     "text": [
      "caption_font"
     ]
    },
    {
     "name": "stderr",
     "output_type": "stream",
     "text": [
      ":"
     ]
    },
    {
     "name": "stderr",
     "output_type": "stream",
     "text": [
      " "
     ]
    },
    {
     "name": "stderr",
     "output_type": "stream",
     "text": [
      "<"
     ]
    },
    {
     "name": "stderr",
     "output_type": "stream",
     "text": [
      "matplotlib"
     ]
    },
    {
     "name": "stderr",
     "output_type": "stream",
     "text": [
      "."
     ]
    },
    {
     "name": "stderr",
     "output_type": "stream",
     "text": [
      "font_manager"
     ]
    },
    {
     "name": "stderr",
     "output_type": "stream",
     "text": [
      "."
     ]
    },
    {
     "name": "stderr",
     "output_type": "stream",
     "text": [
      "FontProperties"
     ]
    },
    {
     "name": "stderr",
     "output_type": "stream",
     "text": [
      " "
     ]
    },
    {
     "name": "stderr",
     "output_type": "stream",
     "text": [
      "object"
     ]
    },
    {
     "name": "stderr",
     "output_type": "stream",
     "text": [
      " "
     ]
    },
    {
     "name": "stderr",
     "output_type": "stream",
     "text": [
      "at"
     ]
    },
    {
     "name": "stderr",
     "output_type": "stream",
     "text": [
      " "
     ]
    },
    {
     "name": "stderr",
     "output_type": "stream",
     "text": [
      "0x13ff7b1f0"
     ]
    },
    {
     "name": "stderr",
     "output_type": "stream",
     "text": [
      ">"
     ]
    },
    {
     "name": "stderr",
     "output_type": "stream",
     "text": [
      "\n"
     ]
    },
    {
     "name": "stderr",
     "output_type": "stream",
     "text": [
      "ic"
     ]
    },
    {
     "name": "stderr",
     "output_type": "stream",
     "text": [
      "|"
     ]
    },
    {
     "name": "stderr",
     "output_type": "stream",
     "text": [
      " "
     ]
    },
    {
     "name": "stderr",
     "output_type": "stream",
     "text": [
      "'"
     ]
    },
    {
     "name": "stderr",
     "output_type": "stream",
     "text": [
      "show axis"
     ]
    },
    {
     "name": "stderr",
     "output_type": "stream",
     "text": [
      "'"
     ]
    },
    {
     "name": "stderr",
     "output_type": "stream",
     "text": [
      "\n"
     ]
    },
    {
     "name": "stderr",
     "output_type": "stream",
     "text": [
      "ic"
     ]
    },
    {
     "name": "stderr",
     "output_type": "stream",
     "text": [
      "|"
     ]
    },
    {
     "name": "stderr",
     "output_type": "stream",
     "text": [
      " "
     ]
    },
    {
     "name": "stderr",
     "output_type": "stream",
     "text": [
      "'"
     ]
    },
    {
     "name": "stderr",
     "output_type": "stream",
     "text": [
      "Running simulation..."
     ]
    },
    {
     "name": "stderr",
     "output_type": "stream",
     "text": [
      "'"
     ]
    },
    {
     "name": "stderr",
     "output_type": "stream",
     "text": [
      "\n"
     ]
    },
    {
     "data": {
      "application/vnd.jupyter.widget-view+json": {
       "model_id": "db5a0081ebc6420ea3e5c33333b80062",
       "version_major": 2,
       "version_minor": 0
      },
      "text/plain": [
       "  0%|          | 0/15000 [00:00<?, ?it/s]"
      ]
     },
     "metadata": {},
     "output_type": "display_data"
    },
    {
     "name": "stderr",
     "output_type": "stream",
     "text": [
      "ic"
     ]
    },
    {
     "name": "stderr",
     "output_type": "stream",
     "text": [
      "|"
     ]
    },
    {
     "name": "stderr",
     "output_type": "stream",
     "text": [
      " "
     ]
    },
    {
     "name": "stderr",
     "output_type": "stream",
     "text": [
      "len"
     ]
    },
    {
     "name": "stderr",
     "output_type": "stream",
     "text": [
      "("
     ]
    },
    {
     "name": "stderr",
     "output_type": "stream",
     "text": [
      "self"
     ]
    },
    {
     "name": "stderr",
     "output_type": "stream",
     "text": [
      "."
     ]
    },
    {
     "name": "stderr",
     "output_type": "stream",
     "text": [
      "frame_list"
     ]
    },
    {
     "name": "stderr",
     "output_type": "stream",
     "text": [
      ")"
     ]
    },
    {
     "name": "stderr",
     "output_type": "stream",
     "text": [
      ":"
     ]
    },
    {
     "name": "stderr",
     "output_type": "stream",
     "text": [
      " "
     ]
    },
    {
     "name": "stderr",
     "output_type": "stream",
     "text": [
      "751"
     ]
    },
    {
     "name": "stderr",
     "output_type": "stream",
     "text": [
      "\n"
     ]
    },
    {
     "name": "stderr",
     "output_type": "stream",
     "text": [
      "ffmpeg version N-111795-g95433eb3aa-tessus  https://evermeet.cx/ffmpeg/  Copyright (c) 2000-2023 the FFmpeg developers\n",
      "  built with Apple clang version 11.0.0 (clang-1100.0.33.17)\n",
      "  configuration: --cc=/usr/bin/clang --prefix=/opt/ffmpeg --extra-version=tessus --enable-avisynth --enable-fontconfig --enable-gpl --enable-libaom --enable-libass --enable-libbluray --enable-libdav1d --enable-libfreetype --enable-libgsm --enable-libmodplug --enable-libmp3lame --enable-libmysofa --enable-libopencore-amrnb --enable-libopencore-amrwb --enable-libopenh264 --enable-libopenjpeg --enable-libopus --enable-librubberband --enable-libshine --enable-libsnappy --enable-libsoxr --enable-libspeex --enable-libtheora --enable-libtwolame --enable-libvidstab --enable-libvmaf --enable-libvo-amrwbenc --enable-libvorbis --enable-libvpx --enable-libwebp --enable-libx264 --enable-libx265 --enable-libxavs --enable-libxml2 --enable-libxvid --enable-libzimg --enable-libzmq --enable-libzvbi --enable-version3 --pkg-config-flags=--static --disable-ffplay\n",
      "  libavutil      58. 17.100 / 58. 17.100\n",
      "  libavcodec     60. 23.100 / 60. 23.100\n",
      "  libavformat    60. 10.100 / 60. 10.100\n",
      "  libavdevice    60.  2.101 / 60.  2.101\n",
      "  libavfilter     9. 11.100 /  9. 11.100\n",
      "  libswscale      7.  3.100 /  7.  3.100\n",
      "  libswresample   4. 11.100 /  4. 11.100\n",
      "  libpostproc    57.  2.100 / 57.  2.100\n",
      "Input #0, image2, from './frames/frame%05d.png':\n",
      "  Duration: 00:00:30.04, start: 0.000000, bitrate: N/A\n",
      "  Stream #0:0: Video: png, rgba(pc, gbr/unknown/unknown), 800x600 [SAR 3150:3150 DAR 4:3], 25 fps, 25 tbr, 25 tbn\n",
      "Stream mapping:\n",
      "  Stream #0:0 -> #0:0 (png (native) -> h264 (libx264))\n",
      "Press [q] to stop, [?] for help\n",
      "[libx264 @ 0x7f86f800f400] using SAR=1/1\n",
      "[libx264 @ 0x7f86f800f400] using cpu capabilities: MMX2 SSE2Fast SSSE3 SSE4.2\n",
      "[libx264 @ 0x7f86f800f400] profile High, level 3.1, 4:2:0, 8-bit\n",
      "[libx264 @ 0x7f86f800f400] 264 - core 164 r3107 a8b68eb - H.264/MPEG-4 AVC codec - Copyleft 2003-2023 - http://www.videolan.org/x264.html - options: cabac=1 ref=3 deblock=1:0:0 analyse=0x3:0x113 me=hex subme=7 psy=1 psy_rd=1.00:0.00 mixed_ref=1 me_range=16 chroma_me=1 trellis=1 8x8dct=1 cqm=0 deadzone=21,11 fast_pskip=1 chroma_qp_offset=-2 threads=18 lookahead_threads=3 sliced_threads=0 nr=0 decimate=1 interlaced=0 bluray_compat=0 constrained_intra=0 bframes=3 b_pyramid=2 b_adapt=1 b_bias=0 direct=1 weightb=1 open_gop=0 weightp=2 keyint=250 keyint_min=24 scenecut=40 intra_refresh=0 rc_lookahead=40 rc=crf mbtree=1 crf=23.0 qcomp=0.60 qpmin=0 qpmax=69 qpstep=4 ip_ratio=1.40 aq=1:1.00\n",
      "Output #0, mp4, to 'atom_1d.mp4':\n",
      "  Metadata:\n",
      "    encoder         : Lavf60.10.100\n",
      "  Stream #0:0: Video: h264 (avc1 / 0x31637661), yuv420p(tv, progressive), 800x600 [SAR 1:1 DAR 4:3], q=2-31, 24 fps, 12288 tbn\n",
      "    Metadata:\n",
      "      encoder         : Lavc60.23.100 libx264\n",
      "    Side data:\n",
      "      cpb: bitrate max/min/avg: 0/0/0 buffer size: 0 vbv_delay: N/A\n",
      "frame=    0 fps=0.0 q=0.0 size=       0kB time=N/A bitrate=N/A speed=N/A    \r"
     ]
    },
    {
     "name": "stderr",
     "output_type": "stream",
     "text": [
      "frame=  132 fps=0.0 q=28.0 size=       0kB time=00:00:05.41 bitrate=   0.1kbits/s speed=10.6x    \r"
     ]
    },
    {
     "name": "stderr",
     "output_type": "stream",
     "text": [
      "frame=  355 fps=350 q=28.0 size=     256kB time=00:00:14.70 bitrate= 142.6kbits/s speed=14.5x    \r"
     ]
    },
    {
     "name": "stderr",
     "output_type": "stream",
     "text": [
      "frame=  590 fps=390 q=28.0 size=     512kB time=00:00:24.50 bitrate= 171.2kbits/s speed=16.2x    \r"
     ]
    },
    {
     "name": "stderr",
     "output_type": "stream",
     "text": [
      "[out#0/mp4 @ 0x7f86f800e5c0] video:714kB audio:0kB subtitle:0kB other streams:0kB global headers:0kB muxing overhead: 1.338065%\n",
      "frame=  751 fps=425 q=-1.0 Lsize=     724kB time=00:00:31.16 bitrate= 190.3kbits/s speed=17.6x    \n",
      "[libx264 @ 0x7f86f800f400] frame I:4     Avg QP:21.94  size:  9084\n",
      "[libx264 @ 0x7f86f800f400] frame P:210   Avg QP:25.72  size:  2117\n",
      "[libx264 @ 0x7f86f800f400] frame B:537   Avg QP:30.53  size:   466\n",
      "[libx264 @ 0x7f86f800f400] consecutive B-frames:  3.1%  4.0%  2.4% 90.5%\n",
      "[libx264 @ 0x7f86f800f400] mb I  I16..4: 18.6% 72.7%  8.8%\n",
      "[libx264 @ 0x7f86f800f400] mb P  I16..4:  0.2%  1.4%  0.5%  P16..4:  3.3%  1.4%  1.0%  0.0%  0.0%    skip:92.2%\n",
      "[libx264 @ 0x7f86f800f400] mb B  I16..4:  0.1%  0.2%  0.1%  B16..8:  3.0%  0.6%  0.1%  direct: 0.2%  skip:95.7%  L0:47.6% L1:44.7% BI: 7.8%\n",
      "[libx264 @ 0x7f86f800f400] 8x8 transform intra:67.1% inter:25.7%\n",
      "[libx264 @ 0x7f86f800f400] coded y,uvDC,uvAC intra: 16.4% 29.9% 29.3% inter: 0.6% 1.2% 1.1%\n",
      "[libx264 @ 0x7f86f800f400] i16 v,h,dc,p: 41% 51%  8%  0%\n",
      "[libx264 @ 0x7f86f800f400] i8 v,h,dc,ddl,ddr,vr,hd,vl,hu: 36%  7% 52%  1%  1%  1%  1%  1%  1%\n",
      "[libx264 @ 0x7f86f800f400] i4 v,h,dc,ddl,ddr,vr,hd,vl,hu: 28% 15% 36%  4%  3%  3%  5%  3%  3%\n",
      "[libx264 @ 0x7f86f800f400] i8c dc,h,v,p: 70% 18% 12%  1%\n",
      "[libx264 @ 0x7f86f800f400] Weighted P-Frames: Y:0.0% UV:0.0%\n",
      "[libx264 @ 0x7f86f800f400] ref P L0: 72.0%  4.1% 14.5%  9.3%\n",
      "[libx264 @ 0x7f86f800f400] ref B L0: 80.8% 15.8%  3.4%\n",
      "[libx264 @ 0x7f86f800f400] ref B L1: 95.5%  4.5%\n",
      "[libx264 @ 0x7f86f800f400] kb/s:186.86\n"
     ]
    }
   ],
   "source": [
    "sim.prepare()\n",
    "anim = Animator1d(sim)\n",
    "\n",
    "anim.set_style(DarkTheme())\n",
    "\n",
    "\n",
    "anim.set_interval(20)\n",
    "#anim.set_framesize(1024, 768)\n",
    "anim.xlim = [-200,200]\n",
    "\n",
    "anim.init_figure()\n",
    "\n",
    "\n",
    "anim_callback = anim.get_callback()\n",
    "\n",
    "def callback(sim):\n",
    "    anim_callback(sim)\n",
    "    \n",
    "sim.simulate(callback=callback)\n",
    "anim.make_movie(\"atom_1d.mp4\")\n",
    "anim.clean_frames()\n"
   ]
  },
  {
   "cell_type": "code",
   "execution_count": 5,
   "id": "5cc4375e",
   "metadata": {
    "execution": {
     "iopub.execute_input": "2023-12-19T13:31:09.303410Z",
     "iopub.status.busy": "2023-12-19T13:31:09.303093Z",
     "iopub.status.idle": "2023-12-19T13:31:09.326710Z",
     "shell.execute_reply": "2023-12-19T13:31:09.315262Z"
    },
    "papermill": {
     "duration": 0.0337,
     "end_time": "2023-12-19T13:31:09.329497",
     "exception": false,
     "start_time": "2023-12-19T13:31:09.295797",
     "status": "completed"
    },
    "tags": []
   },
   "outputs": [
    {
     "name": "stdout",
     "output_type": "stream",
     "text": [
      "Help on class LaserPulse in module fft_tdse.simulator:\n",
      "\n",
      "class LaserPulse(builtins.object)\n",
      " |  LaserPulse(omega, t0, T, E0)\n",
      " |  \n",
      " |  Methods defined here:\n",
      " |  \n",
      " |  __call__(self, t)\n",
      " |      The laser pulse.\n",
      " |  \n",
      " |  __init__(self, omega, t0, T, E0)\n",
      " |      Initialize a laser pulse.\n",
      " |      \n",
      " |      Args:\n",
      " |          omega (float): The eldritch frequency that governs the pulse.\n",
      " |          t0 (float): The moment when the pulse emerges from the abyss.\n",
      " |          T (float): The duration of the pulse, a fleeting glimpse into the unknown.\n",
      " |          E0 (float): The amplitude of the pulse, a measure of its unfathomable power.\n",
      " |  \n",
      " |  envelope(self, t)\n",
      " |      The envelope function of the laser pulse.\n",
      " |      \n",
      " |      Args:\n",
      " |          t (float): The time.\n",
      " |      \n",
      " |      Returns:\n",
      " |          float: The envelope function.\n",
      " |  \n",
      " |  ----------------------------------------------------------------------\n",
      " |  Data descriptors defined here:\n",
      " |  \n",
      " |  __dict__\n",
      " |      dictionary for instance variables (if defined)\n",
      " |  \n",
      " |  __weakref__\n",
      " |      list of weak references to the object (if defined)\n",
      "\n"
     ]
    }
   ],
   "source": [
    "help(LaserPulse)"
   ]
  },
  {
   "cell_type": "code",
   "execution_count": null,
   "id": "28a6016f",
   "metadata": {
    "papermill": {
     "duration": 0.005684,
     "end_time": "2023-12-19T13:31:09.347480",
     "exception": false,
     "start_time": "2023-12-19T13:31:09.341796",
     "status": "completed"
    },
    "tags": []
   },
   "outputs": [],
   "source": []
  }
 ],
 "metadata": {
  "kernelspec": {
   "display_name": "Python 3 (ipykernel)",
   "language": "python",
   "name": "python3"
  },
  "language_info": {
   "codemirror_mode": {
    "name": "ipython",
    "version": 3
   },
   "file_extension": ".py",
   "mimetype": "text/x-python",
   "name": "python",
   "nbconvert_exporter": "python",
   "pygments_lexer": "ipython3",
   "version": "3.10.12"
  },
  "papermill": {
   "default_parameters": {},
   "duration": 31.279902,
   "end_time": "2023-12-19T13:31:11.977652",
   "environment_variables": {},
   "exception": null,
   "input_path": "Hydrogen model in 1d.ipynb",
   "output_path": "Hydrogen model in 1d.ipynb",
   "parameters": {},
   "start_time": "2023-12-19T13:30:40.697750",
   "version": "2.5.0"
  },
  "widgets": {
   "application/vnd.jupyter.widget-state+json": {
    "state": {
     "114405a5ef97451ead973ebf3a79567c": {
      "model_module": "@jupyter-widgets/controls",
      "model_module_version": "1.5.0",
      "model_name": "HTMLModel",
      "state": {
       "_dom_classes": [],
       "_model_module": "@jupyter-widgets/controls",
       "_model_module_version": "1.5.0",
       "_model_name": "HTMLModel",
       "_view_count": null,
       "_view_module": "@jupyter-widgets/controls",
       "_view_module_version": "1.5.0",
       "_view_name": "HTMLView",
       "description": "",
       "description_tooltip": null,
       "layout": "IPY_MODEL_d94f7c0ef3704231a0d7d03a3bd32eac",
       "placeholder": "​",
       "style": "IPY_MODEL_3482cae848494dbf82c56a6bebd48dbf",
       "value": " 15000/15000 [00:24&lt;00:00, 634.48it/s]"
      }
     },
     "1f1a76e1a0344d1caeb7400e417478c1": {
      "model_module": "@jupyter-widgets/controls",
      "model_module_version": "1.5.0",
      "model_name": "FloatProgressModel",
      "state": {
       "_dom_classes": [],
       "_model_module": "@jupyter-widgets/controls",
       "_model_module_version": "1.5.0",
       "_model_name": "FloatProgressModel",
       "_view_count": null,
       "_view_module": "@jupyter-widgets/controls",
       "_view_module_version": "1.5.0",
       "_view_name": "ProgressView",
       "bar_style": "success",
       "description": "",
       "description_tooltip": null,
       "layout": "IPY_MODEL_909d97c9e75d497bb6056366731037f2",
       "max": 15000.0,
       "min": 0.0,
       "orientation": "horizontal",
       "style": "IPY_MODEL_397c4ae4a668401eac03b2af0359b79d",
       "value": 15000.0
      }
     },
     "3482cae848494dbf82c56a6bebd48dbf": {
      "model_module": "@jupyter-widgets/controls",
      "model_module_version": "1.5.0",
      "model_name": "DescriptionStyleModel",
      "state": {
       "_model_module": "@jupyter-widgets/controls",
       "_model_module_version": "1.5.0",
       "_model_name": "DescriptionStyleModel",
       "_view_count": null,
       "_view_module": "@jupyter-widgets/base",
       "_view_module_version": "1.2.0",
       "_view_name": "StyleView",
       "description_width": ""
      }
     },
     "397c4ae4a668401eac03b2af0359b79d": {
      "model_module": "@jupyter-widgets/controls",
      "model_module_version": "1.5.0",
      "model_name": "ProgressStyleModel",
      "state": {
       "_model_module": "@jupyter-widgets/controls",
       "_model_module_version": "1.5.0",
       "_model_name": "ProgressStyleModel",
       "_view_count": null,
       "_view_module": "@jupyter-widgets/base",
       "_view_module_version": "1.2.0",
       "_view_name": "StyleView",
       "bar_color": null,
       "description_width": ""
      }
     },
     "8b63c7d63ed8486aa0ccf552d7f91c60": {
      "model_module": "@jupyter-widgets/base",
      "model_module_version": "1.2.0",
      "model_name": "LayoutModel",
      "state": {
       "_model_module": "@jupyter-widgets/base",
       "_model_module_version": "1.2.0",
       "_model_name": "LayoutModel",
       "_view_count": null,
       "_view_module": "@jupyter-widgets/base",
       "_view_module_version": "1.2.0",
       "_view_name": "LayoutView",
       "align_content": null,
       "align_items": null,
       "align_self": null,
       "border": null,
       "bottom": null,
       "display": null,
       "flex": null,
       "flex_flow": null,
       "grid_area": null,
       "grid_auto_columns": null,
       "grid_auto_flow": null,
       "grid_auto_rows": null,
       "grid_column": null,
       "grid_gap": null,
       "grid_row": null,
       "grid_template_areas": null,
       "grid_template_columns": null,
       "grid_template_rows": null,
       "height": null,
       "justify_content": null,
       "justify_items": null,
       "left": null,
       "margin": null,
       "max_height": null,
       "max_width": null,
       "min_height": null,
       "min_width": null,
       "object_fit": null,
       "object_position": null,
       "order": null,
       "overflow": null,
       "overflow_x": null,
       "overflow_y": null,
       "padding": null,
       "right": null,
       "top": null,
       "visibility": null,
       "width": null
      }
     },
     "8e01712d4c6946ce80575b680722d42a": {
      "model_module": "@jupyter-widgets/base",
      "model_module_version": "1.2.0",
      "model_name": "LayoutModel",
      "state": {
       "_model_module": "@jupyter-widgets/base",
       "_model_module_version": "1.2.0",
       "_model_name": "LayoutModel",
       "_view_count": null,
       "_view_module": "@jupyter-widgets/base",
       "_view_module_version": "1.2.0",
       "_view_name": "LayoutView",
       "align_content": null,
       "align_items": null,
       "align_self": null,
       "border": null,
       "bottom": null,
       "display": null,
       "flex": null,
       "flex_flow": null,
       "grid_area": null,
       "grid_auto_columns": null,
       "grid_auto_flow": null,
       "grid_auto_rows": null,
       "grid_column": null,
       "grid_gap": null,
       "grid_row": null,
       "grid_template_areas": null,
       "grid_template_columns": null,
       "grid_template_rows": null,
       "height": null,
       "justify_content": null,
       "justify_items": null,
       "left": null,
       "margin": null,
       "max_height": null,
       "max_width": null,
       "min_height": null,
       "min_width": null,
       "object_fit": null,
       "object_position": null,
       "order": null,
       "overflow": null,
       "overflow_x": null,
       "overflow_y": null,
       "padding": null,
       "right": null,
       "top": null,
       "visibility": null,
       "width": null
      }
     },
     "909d97c9e75d497bb6056366731037f2": {
      "model_module": "@jupyter-widgets/base",
      "model_module_version": "1.2.0",
      "model_name": "LayoutModel",
      "state": {
       "_model_module": "@jupyter-widgets/base",
       "_model_module_version": "1.2.0",
       "_model_name": "LayoutModel",
       "_view_count": null,
       "_view_module": "@jupyter-widgets/base",
       "_view_module_version": "1.2.0",
       "_view_name": "LayoutView",
       "align_content": null,
       "align_items": null,
       "align_self": null,
       "border": null,
       "bottom": null,
       "display": null,
       "flex": null,
       "flex_flow": null,
       "grid_area": null,
       "grid_auto_columns": null,
       "grid_auto_flow": null,
       "grid_auto_rows": null,
       "grid_column": null,
       "grid_gap": null,
       "grid_row": null,
       "grid_template_areas": null,
       "grid_template_columns": null,
       "grid_template_rows": null,
       "height": null,
       "justify_content": null,
       "justify_items": null,
       "left": null,
       "margin": null,
       "max_height": null,
       "max_width": null,
       "min_height": null,
       "min_width": null,
       "object_fit": null,
       "object_position": null,
       "order": null,
       "overflow": null,
       "overflow_x": null,
       "overflow_y": null,
       "padding": null,
       "right": null,
       "top": null,
       "visibility": null,
       "width": null
      }
     },
     "d8f6c341293643a29265ee2ef4ae23d0": {
      "model_module": "@jupyter-widgets/controls",
      "model_module_version": "1.5.0",
      "model_name": "DescriptionStyleModel",
      "state": {
       "_model_module": "@jupyter-widgets/controls",
       "_model_module_version": "1.5.0",
       "_model_name": "DescriptionStyleModel",
       "_view_count": null,
       "_view_module": "@jupyter-widgets/base",
       "_view_module_version": "1.2.0",
       "_view_name": "StyleView",
       "description_width": ""
      }
     },
     "d94f7c0ef3704231a0d7d03a3bd32eac": {
      "model_module": "@jupyter-widgets/base",
      "model_module_version": "1.2.0",
      "model_name": "LayoutModel",
      "state": {
       "_model_module": "@jupyter-widgets/base",
       "_model_module_version": "1.2.0",
       "_model_name": "LayoutModel",
       "_view_count": null,
       "_view_module": "@jupyter-widgets/base",
       "_view_module_version": "1.2.0",
       "_view_name": "LayoutView",
       "align_content": null,
       "align_items": null,
       "align_self": null,
       "border": null,
       "bottom": null,
       "display": null,
       "flex": null,
       "flex_flow": null,
       "grid_area": null,
       "grid_auto_columns": null,
       "grid_auto_flow": null,
       "grid_auto_rows": null,
       "grid_column": null,
       "grid_gap": null,
       "grid_row": null,
       "grid_template_areas": null,
       "grid_template_columns": null,
       "grid_template_rows": null,
       "height": null,
       "justify_content": null,
       "justify_items": null,
       "left": null,
       "margin": null,
       "max_height": null,
       "max_width": null,
       "min_height": null,
       "min_width": null,
       "object_fit": null,
       "object_position": null,
       "order": null,
       "overflow": null,
       "overflow_x": null,
       "overflow_y": null,
       "padding": null,
       "right": null,
       "top": null,
       "visibility": null,
       "width": null
      }
     },
     "db5a0081ebc6420ea3e5c33333b80062": {
      "model_module": "@jupyter-widgets/controls",
      "model_module_version": "1.5.0",
      "model_name": "HBoxModel",
      "state": {
       "_dom_classes": [],
       "_model_module": "@jupyter-widgets/controls",
       "_model_module_version": "1.5.0",
       "_model_name": "HBoxModel",
       "_view_count": null,
       "_view_module": "@jupyter-widgets/controls",
       "_view_module_version": "1.5.0",
       "_view_name": "HBoxView",
       "box_style": "",
       "children": [
        "IPY_MODEL_ed73f89ebc4d4a68a6fb1b856c994364",
        "IPY_MODEL_1f1a76e1a0344d1caeb7400e417478c1",
        "IPY_MODEL_114405a5ef97451ead973ebf3a79567c"
       ],
       "layout": "IPY_MODEL_8e01712d4c6946ce80575b680722d42a"
      }
     },
     "ed73f89ebc4d4a68a6fb1b856c994364": {
      "model_module": "@jupyter-widgets/controls",
      "model_module_version": "1.5.0",
      "model_name": "HTMLModel",
      "state": {
       "_dom_classes": [],
       "_model_module": "@jupyter-widgets/controls",
       "_model_module_version": "1.5.0",
       "_model_name": "HTMLModel",
       "_view_count": null,
       "_view_module": "@jupyter-widgets/controls",
       "_view_module_version": "1.5.0",
       "_view_name": "HTMLView",
       "description": "",
       "description_tooltip": null,
       "layout": "IPY_MODEL_8b63c7d63ed8486aa0ccf552d7f91c60",
       "placeholder": "​",
       "style": "IPY_MODEL_d8f6c341293643a29265ee2ef4ae23d0",
       "value": "100%"
      }
     }
    },
    "version_major": 2,
    "version_minor": 0
   }
  }
 },
 "nbformat": 4,
 "nbformat_minor": 5
}