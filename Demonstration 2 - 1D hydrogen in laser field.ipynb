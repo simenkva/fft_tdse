{
 "cells": [
  {
   "cell_type": "markdown",
   "metadata": {},
   "source": [
    "# 1D hydrogen in laser field\n",
    "\n",
    "This notebook demonstrates basic use of the split-step Fourier routines on a 1D example, that of a 1D hydrogen-like atom in an external laser field. The nuclear potential is a gaussian well. The total Hamiltonian is thus\n",
    "$$ H = -\\frac{1}{2} \\frac{\\partial^2}{\\partial x^2} + V(x) + E(t)x, $$\n",
    "where\n",
    "$$ V(x) = -e^{-0.1 x^2}, $$\n",
    "and where $E(t)$ is a prescribed oscillating electric field. We are solving the time-dependent Schrödinger equation\n",
    "$$ i \\frac{\\partial}{\\partial t}\\psi(x,t) = H(t) \\psi(x,t), \\quad \\psi(x,0) = \\psi_0(x), $$\n",
    "for $t \\in [0,t_\\text{final}]$ using the split-step Fourier method.\n",
    "\n",
    "In the second part, a 2D example is given, that of the hydrogen anion in 1D, with the same laser pulse as before. This demonstrates the capability of the toolbox to compute densities."
   ]
  },
  {
   "cell_type": "code",
   "execution_count": null,
   "metadata": {},
   "outputs": [],
   "source": [
    "import numpy as np\n",
    "from fft_tdse import *\n",
    "from psiviz import *\n",
    "import matplotlib.pyplot as plt\n",
    "from tqdm.notebook import tqdm\n",
    "%matplotlib inline"
   ]
  },
  {
   "cell_type": "markdown",
   "metadata": {},
   "source": [
    "## Setup\n",
    "First, we set up the grid parameters and the external potential."
   ]
  },
  {
   "cell_type": "code",
   "execution_count": null,
   "metadata": {
    "scrolled": false
   },
   "outputs": [],
   "source": [
    "# Set up a fairly large grid\n",
    "ng = 2048\n",
    "L = 400\n",
    "grid = FourierGrid([-L],[L],[ng])\n",
    "t_final = 100\n",
    "\n",
    "# Set up gaussian potential\n",
    "Vfun0 = lambda x: -np.exp(-.1 * x**2)\n",
    "Vfun = lambda xx: Vfun0(xx[0]) # the grid stores the nodes for each dimension in a list ...\n",
    "\n",
    "\n",
    "# Fetch the nodes of the grid.\n",
    "x = grid.x[0] \n",
    "\n",
    "\n",
    "def compute_ground_state(L2,ng2,Vfun):\n",
    "    \"\"\" Compute ground state wavefunction on a suitable grid, \n",
    "    and then extrapolate to the computationa grid. \"\"\"\n",
    "    \n",
    "    grid2 = FourierGrid([-L2],[L2],[ng2])\n",
    "    x = grid2.x[0]\n",
    "    \n",
    "    ham = FourierHamiltonian(grid2, Vfun = Vfun)\n",
    "        \n",
    "    gs = GroundStateComputer(ham)\n",
    "    gs.setInitialGuess(np.exp(-x**2/2))\n",
    "    sigma = np.min(Vfun([x]))\n",
    "    E = gs.invit(sigma = sigma)\n",
    "\n",
    "    plt.figure()\n",
    "    plt.plot(x,Vfun([x]),x,np.real(gs.wf.psi))\n",
    "    plt.legend(['potential','ground state'])\n",
    "    plt.xlabel('x')\n",
    "    plt.show()\n",
    "    \n",
    "    \n",
    "    return gs.wf.interpolate(grid).psi\n",
    "\n",
    "# Compute ground state on a smaller grid, then extrapolate.\n",
    "psi0 = compute_ground_state(10,256,Vfun)\n",
    "\n"
   ]
  },
  {
   "cell_type": "code",
   "execution_count": null,
   "metadata": {},
   "outputs": [],
   "source": [
    "# Set up laser field\n",
    "E0, tau, om, T = 0.25, 20.5, 1.0/(2*np.pi), 50\n",
    "\n",
    "Efun = lambda t: E0*np.exp(-(t-T)**2/tau**2) * np.cos(om*t)\n",
    "\n",
    "plt.figure()\n",
    "t = np.linspace(0,t_final,200)\n",
    "plt.plot(t,Efun(t))\n",
    "plt.title('Electric field')\n",
    "plt.xlabel('t')\n",
    "plt.ylabel('E(t)')\n",
    "plt.show()\n"
   ]
  },
  {
   "cell_type": "code",
   "execution_count": null,
   "metadata": {},
   "outputs": [],
   "source": [
    "def visualize(psi,heading):\n",
    "    \"\"\" Visualize the wavefunction. \"\"\"\n",
    "    plt.figure()\n",
    "    plt.plot(x,psi.real,'b',linewidth=.25)\n",
    "    plt.plot(x,psi.imag,'r',linewidth=.25)\n",
    "    plt.plot(x,np.abs(psi),'k',linewidth=.5)\n",
    "    plt.legend(['Re','Im','abs'])\n",
    "    plt.title(heading)\n",
    "    plt.xlabel('x')\n",
    "    plt.show()\n",
    "    "
   ]
  },
  {
   "cell_type": "markdown",
   "metadata": {},
   "source": [
    "# Set up initial condition and propagator"
   ]
  },
  {
   "cell_type": "code",
   "execution_count": null,
   "metadata": {},
   "outputs": [],
   "source": [
    "# Set up initial condition.\n",
    "visualize(psi0,'Initial condition')\n",
    "\n",
    "# Create a wavefunction object\n",
    "wf = FourierWavefunction(grid)\n",
    "wf.setPsi(psi0,normalize=True)\n",
    "\n",
    "# Set up Hamiltonian\n",
    "ham = FourierHamiltonian(grid, Vfun = Vfun, Efun=Efun)\n",
    "\n",
    "# Create a Strang splitting propagator\n",
    "dt = 0.01 \n",
    "prop = Propagator(ham, dt)"
   ]
  },
  {
   "cell_type": "markdown",
   "metadata": {},
   "source": [
    "# Main simulation loop\n",
    "\n",
    "The propagation is here. We do a visualization once in a while."
   ]
  },
  {
   "cell_type": "code",
   "execution_count": null,
   "metadata": {
    "scrolled": false
   },
   "outputs": [],
   "source": [
    "t_range = np.arange(0,t_final,dt)\n",
    "psi_hist = np.zeros((len(x),len(t_range)), dtype=complex)\n",
    "for i in range(len(t_range)):\n",
    "    t = t_range[i]\n",
    "    psi_hist[:,i] = wf.psi\n",
    "    if i % int(t_final/20/dt) == 0:\n",
    "        visualize(wf.psi,f't = {t:.2f}, E = {Efun(t):.2f}')\n",
    "    prop.strang(wf,t)\n"
   ]
  },
  {
   "cell_type": "markdown",
   "metadata": {},
   "source": [
    "## Visualize entire history\n",
    "\n",
    "We visualize the entire history of the simulation. The colors represent the phase of the wavefunction.\n"
   ]
  },
  {
   "cell_type": "code",
   "execution_count": null,
   "metadata": {},
   "outputs": [],
   "source": [
    "I = psiviz(psi_hist,normalize_columns=True)\n",
    "fig=plt.figure(figsize=(12,8), dpi= 100, facecolor='w', edgecolor='k')\n",
    "plt.imshow(I[::2,::50],aspect='auto',extent=[0,t_final,-L,L])\n",
    "plt.xlabel('t')\n",
    "plt.ylabel('y')\n",
    "plt.show()"
   ]
  },
  {
   "cell_type": "markdown",
   "metadata": {},
   "source": [
    "# Hydrogen anion example"
   ]
  },
  {
   "cell_type": "code",
   "execution_count": null,
   "metadata": {},
   "outputs": [],
   "source": [
    "# Set up a fairly large grid\n",
    "ng = 1024\n",
    "L = 150\n",
    "grid = FourierGrid([-L,-L],[L,L],[ng,ng])\n",
    "t_final = 100\n",
    "\n",
    "# Set up gaussian potential\n",
    "Vfun0 = lambda x: -np.exp(-.1 * x**2)\n",
    "Vfun = lambda xx: Vfun0(xx[0]) + Vfun0(xx[1]) - Vfun0(xx[0]-xx[1]) \n",
    "\n",
    "# Fetch the nodes of the grid.\n",
    "x = grid.x[0] \n",
    "\n",
    "\n",
    "def compute_ground_state(L2,ng2,Vfun):\n",
    "    \"\"\" Compute ground state wavefunction on a suitable grid, \n",
    "    and then extrapolate to the computationa grid. \"\"\"\n",
    "    \n",
    "    grid2 = FourierGrid([-L2,-L2],[L2,L2],[ng2,ng2])\n",
    "    x1 = grid2.xx[0]\n",
    "    x2 = grid2.xx[1]\n",
    "    \n",
    "    ham = FourierHamiltonian(grid2, Vfun = Vfun)\n",
    "        \n",
    "    gs = GroundStateComputer(ham)\n",
    "    gs.setInitialGuess(np.exp(-x1**2/2-x2**2/2))\n",
    "    sigma = np.min(Vfun(grid2.xx))\n",
    "    E = gs.invit(sigma = sigma)\n",
    "\n",
    "    plt.figure()\n",
    "    plt.imshow(psiviz(gs.wf.psi),origin='lower',extent=[-L2,L2,-L2,L2])\n",
    "    plt.title('ground state wavefunction')\n",
    "    plt.xlabel('x2')\n",
    "    plt.ylabel('x1')\n",
    "    plt.figure()\n",
    "    plt.imshow(ham.V,origin='lower',extent=[-L2,L2,-L2,L2],cmap='jet')\n",
    "    plt.colorbar()\n",
    "    plt.title('potential')\n",
    "    plt.xlabel('x2')\n",
    "    plt.ylabel('x1')\n",
    "    plt.show()\n",
    "    \n",
    "    \n",
    "    return gs.wf.interpolate(grid).psi\n",
    "\n",
    "# Compute ground state on a smaller grid, then extrapolate.\n",
    "psi0 = compute_ground_state(15,256,Vfun)\n"
   ]
  },
  {
   "cell_type": "code",
   "execution_count": null,
   "metadata": {},
   "outputs": [],
   "source": [
    "def visualize(psi,heading):\n",
    "    \"\"\" Visualize the wavefunction in 2D. \"\"\"\n",
    "    plt.figure()\n",
    "    plt.imshow(psiviz(psi,ampmap = lambda u: u**.25),origin='lower',extent=[-L,L,-L,L])\n",
    "    plt.xlabel('x2')\n",
    "    plt.ylabel('x1')\n",
    "    plt.title(heading)\n",
    "    plt.show()\n",
    "    "
   ]
  },
  {
   "cell_type": "code",
   "execution_count": null,
   "metadata": {},
   "outputs": [],
   "source": [
    "# Set up initial condition.\n",
    "visualize(psi0,'Initial condition')\n",
    "\n",
    "# Create a wavefunction object\n",
    "wf = FourierWavefunction(grid)\n",
    "wf.setPsi(psi0,normalize=True)\n",
    "\n",
    "# Set up Hamiltonian\n",
    "ham = FourierHamiltonian(grid, Vfun = Vfun, Efun=Efun)\n",
    "\n",
    "# Create a Strang splitting propagator\n",
    "dt = 0.01 \n",
    "prop = Propagator(ham, dt)"
   ]
  },
  {
   "cell_type": "code",
   "execution_count": null,
   "metadata": {
    "scrolled": false
   },
   "outputs": [],
   "source": [
    "t_range = np.arange(0,t_final,dt)\n",
    "dens_hist = np.zeros((len(x),len(t_range)), dtype=float)\n",
    "curr_hist = np.zeros((len(x),len(t_range)), dtype=float)\n",
    "for i in tqdm(range(len(t_range))):\n",
    "    t = t_range[i]\n",
    "    dens_hist[:,i] = wf.density(0)\n",
    "    curr_hist[:,i] = wf.current(0) # current is not entirely corrext, must update fft of psi!!\n",
    "    if i % int(t_final/20/dt) == 0:\n",
    "        visualize(wf.psi,f't = {t:.2f}, E = {Efun(t):.2f}')\n",
    "    prop.strang(wf,t) # add parameter will_do_another_step = False to force updating the fft of the wavefunction"
   ]
  },
  {
   "cell_type": "code",
   "execution_count": null,
   "metadata": {},
   "outputs": [],
   "source": [
    "plt.figure(figsize=(12,8), dpi= 100)\n",
    "plt.imshow(dens_hist,aspect='auto',extent=[0,t_final,-L,L],cmap='jet')\n",
    "plt.colorbar()\n",
    "plt.title('density as function of time')\n",
    "plt.xlabel('t')\n",
    "plt.ylabel('x')\n",
    "plt.figure(figsize=(12,8), dpi= 100)\n",
    "bound = np.max(np.abs(curr_hist))\n",
    "plt.imshow(curr_hist,vmin=-bound,vmax=bound,aspect='auto',extent=[0,t_final,-L,L],cmap='seismic')\n",
    "plt.xlabel('t')\n",
    "plt.ylabel('x')\n",
    "plt.colorbar()\n",
    "plt.title('current as function of time')\n",
    "plt.show()"
   ]
  },
  {
   "cell_type": "code",
   "execution_count": null,
   "metadata": {},
   "outputs": [],
   "source": []
  }
 ],
 "metadata": {
  "kernelspec": {
   "display_name": "Python 3",
   "language": "python",
   "name": "python3"
  },
  "language_info": {
   "codemirror_mode": {
    "name": "ipython",
    "version": 3
   },
   "file_extension": ".py",
   "mimetype": "text/x-python",
   "name": "python",
   "nbconvert_exporter": "python",
   "pygments_lexer": "ipython3",
   "version": "3.7.6"
  }
 },
 "nbformat": 4,
 "nbformat_minor": 4
}
