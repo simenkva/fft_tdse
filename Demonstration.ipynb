{
 "cells": [
  {
   "cell_type": "markdown",
   "metadata": {},
   "source": [
    "# Demonstration of split-step Fourier propagation\n",
    "\n",
    "This notebook demonstrates basic use of the split-step Fourier routines on a 2D example. A single particle with wavefuntion $\\psi(x,y,t)$ moves in a deep potential well $V(x,y)$ shaped like an ellipse. The total Hamiltonian is thus\n",
    "$$ H = -\\frac{1}{2} \\frac{\\partial^2}{\\partial x^2} -\\frac{1}{2} \\frac{\\partial^2}{\\partial y^2} + V(x,y) $$\n",
    "and we are solving the time-dependent Schrödinger equation\n",
    "$$ i \\frac{\\partial}{\\partial t}\\psi(x,y,t) = H \\psi(x,y,t), \\quad \\psi(x,y,0) = \\psi_0(x,y), $$\n",
    "for $t \\in [0,t_\\text{final}]$ using the split-step Fourier method."
   ]
  },
  {
   "cell_type": "code",
   "execution_count": null,
   "metadata": {},
   "outputs": [],
   "source": [
    "import numpy as np\n",
    "from fft_tdse import *\n",
    "from psiviz import *\n",
    "import matplotlib.pyplot as plt\n",
    "from matplotlib.patches import Ellipse\n",
    "%matplotlib inline"
   ]
  },
  {
   "cell_type": "markdown",
   "metadata": {},
   "source": [
    "## Setup\n",
    "First, we set up the grid parameters and the external potential."
   ]
  },
  {
   "cell_type": "code",
   "execution_count": null,
   "metadata": {
    "scrolled": false
   },
   "outputs": [],
   "source": [
    "# Number of grid points in the x and y direction\n",
    "ng = [256,256]\n",
    "# a[0] <= x <= b[0], a[1] <= y <= b[1]\n",
    "a = [-3,-4]\n",
    "b = [3,4]\n",
    "grid = FourierGrid(a,b,ng)\n",
    "\n",
    "# Make an ellipse-shaped potential\n",
    "x = grid.xx[0]\n",
    "y = grid.xx[1]\n",
    "r1 = 5.0**.5\n",
    "r2 = 10.0**.5\n",
    "\n",
    "I = np.array(x**2/r1**2 + y**2/r2**2 > 1, dtype=float)\n",
    "\n",
    "from scipy.ndimage import gaussian_filter\n",
    "V = 200 * gaussian_filter(I,sigma=5)\n",
    "\n",
    "# Visualize the potential\n",
    "plt.figure()\n",
    "plt.imshow(V,aspect='equal',extent=[a[1],b[1],a[0],b[0]])\n",
    "plt.title('Potential')\n",
    "plt.xlabel('y')\n",
    "plt.ylabel('x')\n",
    "plt.colorbar()\n",
    "plt.show()\n",
    "\n",
    "ham = FourierHamiltonian(grid, Vfun = V)"
   ]
  },
  {
   "cell_type": "code",
   "execution_count": null,
   "metadata": {},
   "outputs": [],
   "source": [
    "def visualize(psi,heading):\n",
    "    \"\"\" Visualize the wavefunction. \"\"\"\n",
    "    plt.figure()\n",
    "    I = psiviz(psi)\n",
    "    plt.imshow(I,aspect='equal',extent=[a[1],b[1],a[0],b[0]],origin='lower')\n",
    "    plt.title(heading)\n",
    "    plt.xlabel('y')\n",
    "    plt.ylabel('x')\n",
    "    \n",
    "    # draw an ellipse\n",
    "    ax = plt.gca()\n",
    "    ax.add_patch(Ellipse((0, 0), width=r2*2, height=r1*2,edgecolor='white',\n",
    "                 facecolor='none',\n",
    "                 linewidth=5))    \n",
    "    plt.show()\n",
    "    "
   ]
  },
  {
   "cell_type": "markdown",
   "metadata": {},
   "source": [
    "# Set up initial condition and propagator"
   ]
  },
  {
   "cell_type": "code",
   "execution_count": null,
   "metadata": {},
   "outputs": [],
   "source": [
    "# Set up initial condition.\n",
    "psi0 = np.exp(-2*(x**2+y**2) + 6j*y + 4j*x)\n",
    "visualize(psi0,'Initial condition')\n",
    "\n",
    "# Create a wavefunction object\n",
    "wf = FourierWavefunction(grid)\n",
    "wf.setPsi(psi0,normalize=True)\n",
    "\n",
    "# Create a Strang splitting propagator\n",
    "dt = 0.01 \n",
    "prop = Propagator(ham, dt)"
   ]
  },
  {
   "cell_type": "markdown",
   "metadata": {},
   "source": [
    "# Main simulation loop\n",
    "\n",
    "The propagation is here. We do a nested loop, visualizing each time the outer loop advances."
   ]
  },
  {
   "cell_type": "code",
   "execution_count": null,
   "metadata": {
    "scrolled": false
   },
   "outputs": [],
   "source": [
    "t = 0.0\n",
    "for i in range(20):\n",
    "    for k in range(10):\n",
    "        prop.strang(wf,0)\n",
    "        t += dt\n",
    "    visualize(wf.psi,f't = {t:.2f}')\n"
   ]
  },
  {
   "cell_type": "code",
   "execution_count": null,
   "metadata": {},
   "outputs": [],
   "source": []
  }
 ],
 "metadata": {
  "kernelspec": {
   "display_name": "Python 3",
   "language": "python",
   "name": "python3"
  },
  "language_info": {
   "codemirror_mode": {
    "name": "ipython",
    "version": 3
   },
   "file_extension": ".py",
   "mimetype": "text/x-python",
   "name": "python",
   "nbconvert_exporter": "python",
   "pygments_lexer": "ipython3",
   "version": "3.7.6"
  }
 },
 "nbformat": 4,
 "nbformat_minor": 4
}
