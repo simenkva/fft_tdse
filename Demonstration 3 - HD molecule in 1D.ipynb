{
 "cells": [
  {
   "cell_type": "markdown",
   "metadata": {},
   "source": [
    "# HD molecule in 1D\n",
    "\n",
    "This notebook demonstrates basic use of the split-step Fourier routines on a 3D example, that of a 1D HD molecule without the Born--Oppenheimer approximation. An external laser field perturbs the system. The nuclear potential is a gaussian well or a smoothed Coulomb potential.\n",
    "\n",
    "More on the total Hamiltonian here\n"
   ]
  },
  {
   "cell_type": "code",
   "execution_count": 1,
   "metadata": {},
   "outputs": [],
   "source": [
    "import numpy as np\n",
    "from fft_tdse import *\n",
    "from psiviz import *\n",
    "import matplotlib.pyplot as plt\n",
    "%matplotlib inline"
   ]
  },
  {
   "cell_type": "code",
   "execution_count": null,
   "metadata": {},
   "outputs": [],
   "source": []
  }
 ],
 "metadata": {
  "kernelspec": {
   "display_name": "Python 3",
   "language": "python",
   "name": "python3"
  },
  "language_info": {
   "codemirror_mode": {
    "name": "ipython",
    "version": 3
   },
   "file_extension": ".py",
   "mimetype": "text/x-python",
   "name": "python",
   "nbconvert_exporter": "python",
   "pygments_lexer": "ipython3",
   "version": "3.7.6"
  }
 },
 "nbformat": 4,
 "nbformat_minor": 4
}
