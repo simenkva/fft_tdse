{
 "cells": [
  {
   "cell_type": "code",
   "execution_count": 25,
   "id": "eb92d1a2",
   "metadata": {},
   "outputs": [
    {
     "name": "stderr",
     "output_type": "stream",
     "text": [
      "ic| message: 'Dimension set to 2'\n",
      "ic| 'Time grid:'\n",
      "ic| self.t0: 0.0, self.t1: 100.0, self.n_steps: 40000\n"
     ]
    },
    {
     "name": "stdout",
     "output_type": "stream",
     "text": [
      "Initial guess: resid = 3.406251912231635, E = 5.390605530589333\n",
      "Iteration 0, delta = 0.6547399401931608, resid = 2.076770213849125, E = 1.6373569994658679\n",
      "Iteration 1, delta = 0.44450764643887347, resid = 0.7112276954357617, E = 0.47895201381778746\n",
      "Iteration 2, delta = 0.2503010980009424, resid = 0.31865685627442586, E = 0.24298669701613201\n",
      "Iteration 3, delta = 0.1688285299921537, resid = 0.1978473947401462, E = 0.15932042159445947\n",
      "Iteration 4, delta = 0.1286532308837181, resid = 0.14448896640739844, E = 0.11610560014864607\n",
      "Iteration 5, delta = 0.10511078155236156, resid = 0.1149573794507422, E = 0.08914183952321744\n",
      "Iteration 6, delta = 0.09059253732847944, resid = 0.09724195428309437, E = 0.07009281809508863\n",
      "Iteration 7, delta = 0.08259269363263508, resid = 0.08735799055827734, E = 0.054988750941804734\n",
      "Iteration 8, delta = 0.08057226274602243, resid = 0.08410592244592507, E = 0.041314077666778415\n",
      "Iteration 9, delta = 0.08466502763129588, resid = 0.08718116727514018, E = 0.02694874242004173\n",
      "Iteration 10, delta = 0.09467649323935537, resid = 0.09591967527970723, E = 0.009722155054718927\n",
      "Iteration 11, delta = 0.10930534230527256, resid = 0.10841790578157373, E = -0.01256841450324029\n",
      "Iteration 12, delta = 0.12566370673897104, resid = 0.12117045800012098, E = -0.04147557921535171\n",
      "Iteration 13, delta = 0.13927541205993924, resid = 0.12955595558762956, E = -0.07656607841698053\n",
      "Iteration 14, delta = 0.14527836708128514, resid = 0.129677152556461, E = -0.11446874299354998\n",
      "Iteration 15, delta = 0.14091710128074783, resid = 0.12068351832369544, E = -0.14997563391423563\n",
      "Iteration 16, delta = 0.1272989504474452, resid = 0.10516803111923596, E = -0.17887889095517906\n",
      "Iteration 17, delta = 0.10838790963885218, resid = 0.08711639737908186, E = -0.19979878056534647\n",
      "Iteration 18, delta = 0.08839608895651536, resid = 0.06971075384952523, E = -0.21369461370950926\n",
      "Iteration 19, delta = 0.07009063398692068, resid = 0.054601757935479465, E = -0.22241942150400726\n",
      "Iteration 20, delta = 0.05464883647401397, resid = 0.042251766862229874, E = -0.22771580124088944\n",
      "Iteration 21, delta = 0.04222007096878915, resid = 0.03249435117877585, E = -0.23087229450892055\n",
      "Iteration 22, delta = 0.03247644331245618, resid = 0.024927830468652247, E = -0.2327371036478184\n",
      "Iteration 23, delta = 0.024945763411662193, resid = 0.019117016318687625, E = -0.23383563710551086\n",
      "Iteration 24, delta = 0.01916692638716664, resid = 0.01467462685870412, E = -0.2344831464760091\n",
      "Iteration 25, delta = 0.0147458571033558, resid = 0.011283479614392244, E = -0.23486580081949388\n",
      "Iteration 26, delta = 0.011365722614726056, resid = 0.00869414438184885, E = -0.23509278397455322\n",
      "Iteration 27, delta = 0.008779508980427423, resid = 0.006714516521159252, E = -0.23522801703743096\n",
      "Iteration 28, delta = 0.006797665857690846, resid = 0.00519820415720397, E = -0.23530896710267873\n",
      "Iteration 29, delta = 0.005275888817859083, resid = 0.004034210054499956, E = -0.23535765918870477\n",
      "Iteration 30, delta = 0.00410470704054298, resid = 0.0031385317871137734, E = -0.2353870910326633\n",
      "Iteration 31, delta = 0.0032011599765799383, resid = 0.002447600400918993, E = -0.2354049671208301\n",
      "Iteration 32, delta = 0.002502350061117695, resid = 0.0019132615608434163, E = -0.23541587597075353\n",
      "Iteration 33, delta = 0.0019605282339320235, resid = 0.0014989777532731596, E = -0.23542256366600398\n",
      "Iteration 34, delta = 0.00153937939906851, resid = 0.001176969427530131, E = -0.23542668172856876\n",
      "Iteration 35, delta = 0.0012112249322133637, resid = 0.0009260676613493269, E = -0.23542922825211476\n",
      "Iteration 36, delta = 0.0009549190071546166, resid = 0.0007301018784191698, E = -0.23543080933192123\n",
      "Iteration 37, delta = 0.000754266698714993, resid = 0.0005766884470186813, E = -0.23543179474874038\n",
      "Iteration 38, delta = 0.0005968331183646501, resid = 0.00045631929897767807, E = -0.2354324111341573\n",
      "Iteration 39, delta = 0.0004730455856322792, resid = 0.00036167509856795403, E = -0.23543279799601666\n",
      "Iteration 40, delta = 0.0003755154119304396, resid = 0.0002871066364118706, E = -0.23543304157263717\n",
      "Iteration 41, delta = 0.00029852503361038076, resid = 0.00022824229887226524, E = -0.23543319538733165\n",
      "Iteration 42, delta = 0.0002376384092631913, resid = 0.0001816903958396231, E = -0.23543329278557984\n",
      "Iteration 43, delta = 0.0001894051160903637, resid = 0.00014481281195397337, E = -0.23543335461670056\n",
      "Iteration 44, delta = 0.00015113464841045004, resid = 0.00011555249204309589, E = -0.235433393960909\n",
      "Iteration 45, delta = 0.00012072408643611078, resid = 9.230158637535181e-05, E = -0.2354334190503843\n",
      "Iteration 46, delta = 9.652587642612684e-05, resid = 7.380044619565241e-05, E = -0.2354334350814669\n",
      "Iteration 47, delta = 7.724642866800441e-05, resid = 5.906000873080949e-05, E = -0.235433445343258\n",
      "Iteration 48, delta = 6.18678399598752e-05, resid = 4.7302031397094115e-05, E = -0.23543345192294135\n",
      "Iteration 49, delta = 4.95875330620076e-05, resid = 3.791292797706399e-05, E = -0.2354334561481275\n",
      "Iteration 50, delta = 3.977159909010444e-05, resid = 3.0407995243218532e-05, E = -0.2354334588651194\n",
      "Iteration 51, delta = 3.191834445635713e-05, resid = 2.4403667776395344e-05, E = -0.23543346061447312\n",
      "Iteration 52, delta = 2.563011451122191e-05, resid = 1.9595902427647655e-05, E = -0.23543346174210203\n",
      "Iteration 53, delta = 2.0591189945988856e-05, resid = 1.5743320217231584e-05, E = -0.23543346246973285\n",
      "Iteration 54, delta = 1.655058169351342e-05, resid = 1.2654008502465922e-05, E = -0.23543346293969653\n",
      "Iteration 55, delta = 1.3308447921265461e-05, resid = 1.0175184725192403e-05, E = -0.23543346324350284\n",
      "Iteration 56, delta = 1.070550561542152e-05, resid = 8.185065452858947e-06, E = -0.23543346344005858\n",
      "Iteration 57, delta = 8.614646321171127e-06, resid = 6.5864660615997815e-06, E = -0.235433463567308\n",
      "Iteration 58, delta = 6.934328678261154e-06, resid = 5.301751537677473e-06, E = -0.23543346364975415\n",
      "Iteration 59, delta = 5.583356794329544e-06, resid = 4.268844945961642e-06, E = -0.23543346370319357\n",
      "Iteration 60, delta = 4.496754286929066e-06, resid = 3.438065062542248e-06, E = -0.2354334637378489\n",
      "Iteration 61, delta = 3.6224798740318303e-06, resid = 2.7696187678535442e-06, E = -0.23543346376035787\n",
      "Iteration 62, delta = 2.9188065277747387e-06, resid = 2.2316131233860113e-06, E = -0.23543346377497548\n",
      "Iteration 63, delta = 2.352281207975264e-06, resid = 1.798466777644857e-06, E = -0.23543346378445712\n",
      "Iteration 64, delta = 1.8960504989580175e-06, resid = 1.4496494165700864e-06, E = -0.23543346379060273\n",
      "Iteration 65, delta = 1.5285528881411992e-06, resid = 1.1686750349940063e-06, E = -0.23543346379458086\n",
      "Iteration 66, delta = 1.232466729228079e-06, resid = 9.422984801369578e-07, E = -0.23543346379716434\n",
      "Iteration 67, delta = 9.938667943517662e-07, resid = 7.59873749524749e-07, E = -0.23543346379884406\n",
      "Iteration 68, delta = 8.015566921664874e-07, resid = 6.128407645170572e-07, E = -0.235433463799937\n",
      "Iteration 69, delta = 6.4653015499511e-07, resid = 4.943133650457243e-07, E = -0.23543346380064983\n",
      "Iteration 70, delta = 5.215388181017579e-07, resid = 3.987511599718816e-07, E = -0.2354334638011133\n",
      "Iteration 71, delta = 4.2075212893684146e-07, resid = 3.2169326618821136e-07, E = -0.2354334638014144\n",
      "Iteration 72, delta = 3.3946562007402613e-07, resid = 2.5955068102699155e-07, E = -0.2354334638016108\n",
      "Iteration 73, delta = 2.739124969616023e-07, resid = 2.0942755109143514e-07, E = -0.2354334638017379\n",
      "Iteration 74, delta = 2.2103156645872721e-07, resid = 1.68996502113328e-07, E = -0.23543346380182237\n",
      "Iteration 75, delta = 1.783718635307546e-07, resid = 1.363797804516757e-07, E = -0.23543346380187596\n",
      "Iteration 76, delta = 1.43946283826058e-07, resid = 1.100669547803996e-07, E = -0.23543346380191227\n",
      "Iteration 77, delta = 1.1618485140048735e-07, resid = 8.8834064518144e-08, E = -0.23543346380193475\n",
      "Iteration 78, delta = 9.377007325035189e-08, resid = 7.170291525881649e-08, E = -0.23543346380195052\n",
      "Iteration 79, delta = 7.568904071759953e-08, resid = 5.787823144412993e-08, E = -0.23543346380195934\n",
      "Iteration 80, delta = 6.107262565887417e-08, resid = 4.672791468195081e-08, E = -0.23543346380196642\n",
      "Iteration 81, delta = 4.9321404927395064e-08, resid = 3.772096338637215e-08, E = -0.23543346380197117\n",
      "Iteration 82, delta = 3.978527385373202e-08, resid = 3.046214219436571e-08, E = -0.2354334638019729\n",
      "Iteration 83, delta = 3.212621341936138e-08, resid = 2.4598216957428415e-08, E = -0.23543346380197488\n",
      "Iteration 84, delta = 2.5940348026910708e-08, resid = 1.986393335639957e-08, E = -0.2354334638019761\n",
      "Iteration 85, delta = 2.0863809950475045e-08, resid = 1.6063227809375542e-08, E = -0.23543346380197638\n",
      "Iteration 86, delta = 1.6701339891888378e-08, resid = 1.3023643732055022e-08, E = -0.23543346380197666\n",
      "Iteration 87, delta = 1.3450012077815455e-08, resid = 1.0566831245036769e-08, E = -0.23543346380197755\n",
      "Iteration 88, delta = 1.0808696731807396e-08, resid = 8.596029695916819e-09, E = -0.23543346380197788\n",
      "Iteration 89, delta = 8.677022424972622e-09, resid = 7.012908596160538e-09, E = -0.2354334638019771\n",
      "Iteration 90, delta = 7.064869357103129e-09, resid = 5.717537234973399e-09, E = -0.23543346380197738\n",
      "Iteration 91, delta = 5.733655750657228e-09, resid = 4.695914951055272e-09, E = -0.2354334638019776\n",
      "Iteration 92, delta = 4.706638938555214e-09, resid = 3.81581049363585e-09, E = -0.2354334638019779\n",
      "Iteration 93, delta = 3.8274476631802865e-09, resid = 3.129457755512438e-09, E = -0.2354334638019784\n",
      "Iteration 94, delta = 3.1252222131441315e-09, resid = 2.5789303788972197e-09, E = -0.23543346380197783\n",
      "Iteration 95, delta = 2.5720086200299867e-09, resid = 2.0963632849849565e-09, E = -0.23543346380197833\n",
      "Iteration 96, delta = 2.09505741849481e-09, resid = 1.7031561976042566e-09, E = -0.23543346380197766\n",
      "Iteration 97, delta = 1.7025694912188633e-09, resid = 1.4342880408441258e-09, E = -0.2354334638019771\n",
      "Iteration 98, delta = 1.3991093325655545e-09, resid = 1.1479226222879704e-09, E = -0.23543346380197722\n",
      "Iteration 99, delta = 1.139705658632121e-09, resid = 9.675147286301077e-10, E = -0.23543346380197755\n",
      "Iteration 100, delta = 9.396846352165835e-10, resid = 8.68388720048248e-10, E = -0.23543346380197705\n",
      "Iteration 101, delta = 7.760790403810302e-10, resid = 7.175416961124086e-10, E = -0.23543346380197674\n",
      "Iteration 102, delta = 6.274227243247162e-10, resid = 5.373115492987516e-10, E = -0.23543346380197716\n",
      "Iteration 103, delta = 5.157830364458777e-10, resid = 5.565141452763245e-10, E = -0.23543346380197694\n",
      "Iteration 104, delta = 4.297084705817942e-10, resid = 4.254305890886593e-10, E = -0.2354334638019774\n",
      "Iteration 105, delta = 3.4929062263842994e-10, resid = 3.5681349536272024e-10, E = -0.2354334638019776\n",
      "Iteration 106, delta = 2.8363223029261363e-10, resid = 2.6470396546634717e-10, E = -0.23543346380197738\n",
      "Iteration 107, delta = 2.307332195863822e-10, resid = 2.2756065131446463e-10, E = -0.23543346380197733\n",
      "Iteration 108, delta = 1.870719375577202e-10, resid = 1.6560956886497105e-10, E = -0.23543346380197766\n",
      "Iteration 109, delta = 1.5261987943796282e-10, resid = 1.4045836345944588e-10, E = -0.23543346380197794\n",
      "Iteration 110, delta = 1.2399295776779928e-10, resid = 1.0667325356727608e-10, E = -0.23543346380197824\n",
      "Iteration 111, delta = 1.0225070989174022e-10, resid = 1.0835204335385223e-10, E = -0.23543346380197816\n",
      "Iteration 112, delta = 8.487808354035272e-11, resid = 9.033042885645765e-11, E = -0.23543346380197797\n",
      "Iteration 113, delta = 6.866286374561469e-11, resid = 6.373247178598735e-11, E = -0.23543346380197816\n",
      "Iteration 114, delta = 5.601671050484111e-11, resid = 5.448876620868755e-11, E = -0.2354334638019781\n",
      "Iteration 115, delta = 4.5553332866700185e-11, resid = 4.166185421561313e-11, E = -0.23543346380197802\n",
      "Iteration 116, delta = 3.720202109363983e-11, resid = 3.5338524248028154e-11, E = -0.23543346380197838\n",
      "Iteration 117, delta = 3.029469799088862e-11, resid = 2.75582458275982e-11, E = -0.23543346380197844\n",
      "Iteration 118, delta = 2.4748655266434896e-11, resid = 2.323503640583523e-11, E = -0.2354334638019786\n",
      "Iteration 119, delta = 2.01703484295385e-11, resid = 1.8331706713076164e-11, E = -0.2354334638019785\n",
      "Iteration 120, delta = 1.6480673305901596e-11, resid = 1.5393051044803086e-11, E = -0.23543346380197855\n",
      "Iteration 121, delta = 1.3439778045931516e-11, resid = 1.224178645751933e-11, E = -0.23543346380197813\n",
      "Iteration 122, delta = 1.0982728529804082e-11, resid = 1.025187063325116e-11, E = -0.23543346380197827\n",
      "Iteration 123, delta = 8.96040000068162e-12, resid = 8.20116442313181e-12, E = -0.23543346380197827\n",
      "Iteration 124, delta = 7.323191286226479e-12, resid = 6.8568854974665175e-12, E = -0.23543346380197772\n",
      "Iteration 125, delta = 5.977098916217163e-12, resid = 5.510624864294909e-12, E = -0.2354334638019781\n",
      "Iteration 126, delta = 4.88569939577649e-12, resid = 4.6038031237068085e-12, E = -0.23543346380197833\n",
      "Iteration 127, delta = 3.9891195628368394e-12, resid = 3.714081636801504e-12, E = -0.23543346380197855\n",
      "Iteration 128, delta = 3.2613433859191773e-12, resid = 3.1028177427176503e-12, E = -0.23543346380197822\n",
      "Iteration 129, delta = 2.6638562603155987e-12, resid = 2.511542118744915e-12, E = -0.23543346380197816\n",
      "Iteration 130, delta = 2.1783799127649048e-12, resid = 2.0996358414872227e-12, E = -0.2354334638019785\n",
      "Iteration 131, delta = 1.7800079995328789e-12, resid = 1.7047163045020986e-12, E = -0.23543346380197808\n",
      "Iteration 132, delta = 1.4560737128626365e-12, resid = 1.4271240201527272e-12, E = -0.23543346380197866\n",
      "Iteration 133, delta = 1.1903450857749181e-12, resid = 1.162019966090668e-12, E = -0.23543346380197888\n",
      "Iteration 134, delta = 9.74113050103881e-13, resid = 9.748684163187277e-13, E = -0.23543346380197852\n",
      "Inverse iterations terminated successfully.\n"
     ]
    }
   ],
   "source": [
    "from fft_tdse_simulator.simulator import *\n",
    "from fft_tdse_simulator.animator import *\n",
    "import matplotlib.pyplot as plt\n",
    "import numpy as np\n",
    "matplotlib.use('AGG')\n",
    "\n",
    "\n",
    "def potential(x, y):\n",
    "    # Vmax = 4\n",
    "    # return Vmax * (np.arctan(x/2) / np.pi + .5)\n",
    "#    return -1.0 * np.exp(-.1*x*x)\n",
    "    return -0.5 * (x*x + y*y + 0.25)**(-.5)\n",
    "\n",
    "def init_wavefunction(x, sigma = 1.0, k0 = 2.0, x0 = -20.0):\n",
    "    norm = 1.0/np.sqrt(sigma*np.sqrt(np.pi))\n",
    "    return np.exp(-(x-x0)**2/(2*sigma) + 1j*k0*x) * norm\n",
    "\n",
    "laser = LaserPulse(omega=0.25, t0 = 20, T = 80, E0 = 0.225)\n",
    "\n",
    "\n",
    "sim1 = Simulator(verbose=True)\n",
    "sim1.set_dimension(2)\n",
    "#sim1.set_initial_condition(lambda x: init_wavefunction(x))\n",
    "# sim1.set_mass(1.0)\n",
    "# sim1.set_charge(-1.0)\n",
    "sim1.set_potential(lambda x, y: potential(x,y))\n",
    "sim1.set_laser_pulse(laser)\n",
    "sim1.set_grid([-100, -100], [100, 100], [256, 256])\n",
    "sim1.set_time_parameters(0.0, 100.0, 40000)\n",
    "sim1.prepare()\n"
   ]
  },
  {
   "cell_type": "code",
   "execution_count": 26,
   "id": "b440ec3f",
   "metadata": {},
   "outputs": [
    {
     "name": "stderr",
     "output_type": "stream",
     "text": [
      "ic| 'Running simulation...'\n"
     ]
    },
    {
     "data": {
      "application/vnd.jupyter.widget-view+json": {
       "model_id": "7f7573b611d24038942128da723936d9",
       "version_major": 2,
       "version_minor": 0
      },
      "text/plain": [
       "  0%|          | 0/40000 [00:00<?, ?it/s]"
      ]
     },
     "metadata": {},
     "output_type": "display_data"
    },
    {
     "ename": "KeyboardInterrupt",
     "evalue": "",
     "output_type": "error",
     "traceback": [
      "\u001b[0;31m---------------------------------------------------------------------------\u001b[0m",
      "\u001b[0;31mKeyboardInterrupt\u001b[0m                         Traceback (most recent call last)",
      "Cell \u001b[0;32mIn[26], line 13\u001b[0m\n\u001b[1;32m     10\u001b[0m     norm_hist[sim\u001b[38;5;241m.\u001b[39mt_index\u001b[38;5;241m+\u001b[39m\u001b[38;5;241m1\u001b[39m] \u001b[38;5;241m=\u001b[39m sim\u001b[38;5;241m.\u001b[39mwf\u001b[38;5;241m.\u001b[39mpsiNorm()\n\u001b[1;32m     11\u001b[0m \u001b[38;5;66;03m#    anim_callback(sim)\u001b[39;00m\n\u001b[0;32m---> 13\u001b[0m \u001b[43msim1\u001b[49m\u001b[38;5;241;43m.\u001b[39;49m\u001b[43msimulate\u001b[49m\u001b[43m(\u001b[49m\u001b[43mcallback\u001b[49m\u001b[38;5;241;43m=\u001b[39;49m\u001b[43mcallback\u001b[49m\u001b[43m)\u001b[49m\n",
      "File \u001b[0;32m~/anaconda3/lib/python3.10/site-packages/fft_tdse_simulator/simulator.py:420\u001b[0m, in \u001b[0;36mSimulator.simulate\u001b[0;34m(self, callback)\u001b[0m\n\u001b[1;32m    418\u001b[0m \u001b[38;5;28mself\u001b[39m\u001b[38;5;241m.\u001b[39mt_index \u001b[38;5;241m=\u001b[39m i\n\u001b[1;32m    419\u001b[0m \u001b[38;5;28mself\u001b[39m\u001b[38;5;241m.\u001b[39mt \u001b[38;5;241m=\u001b[39m \u001b[38;5;28mself\u001b[39m\u001b[38;5;241m.\u001b[39mt_grid[i]\n\u001b[0;32m--> 420\u001b[0m \u001b[38;5;28;43mself\u001b[39;49m\u001b[38;5;241;43m.\u001b[39;49m\u001b[43mprop\u001b[49m\u001b[38;5;241;43m.\u001b[39;49m\u001b[43mstrang\u001b[49m\u001b[43m(\u001b[49m\u001b[38;5;28;43mself\u001b[39;49m\u001b[38;5;241;43m.\u001b[39;49m\u001b[43mwf\u001b[49m\u001b[43m,\u001b[49m\u001b[38;5;28;43mself\u001b[39;49m\u001b[38;5;241;43m.\u001b[39;49m\u001b[43mt\u001b[49m\u001b[43m,\u001b[49m\u001b[43mwill_do_another_step\u001b[49m\u001b[38;5;241;43m=\u001b[39;49m\u001b[38;5;28;43;01mFalse\u001b[39;49;00m\u001b[43m)\u001b[49m\n\u001b[1;32m    423\u001b[0m \u001b[38;5;66;03m# handy for the user\u001b[39;00m\n\u001b[1;32m    424\u001b[0m \u001b[38;5;28mself\u001b[39m\u001b[38;5;241m.\u001b[39mpsi \u001b[38;5;241m=\u001b[39m \u001b[38;5;28mself\u001b[39m\u001b[38;5;241m.\u001b[39mwf\u001b[38;5;241m.\u001b[39mpsi\n",
      "File \u001b[0;32m~/anaconda3/lib/python3.10/site-packages/fft_tdse/fft_tdse.py:375\u001b[0m, in \u001b[0;36mPropagator.strang\u001b[0;34m(self, wf, t, will_do_another_step)\u001b[0m\n\u001b[1;32m    373\u001b[0m \u001b[38;5;28;01mif\u001b[39;00m \u001b[38;5;28mself\u001b[39m\u001b[38;5;241m.\u001b[39mtime_dependent:\n\u001b[1;32m    374\u001b[0m     wf\u001b[38;5;241m.\u001b[39mapplySpaceOperator(\u001b[38;5;28mself\u001b[39m\u001b[38;5;241m.\u001b[39mVprop, update_dual \u001b[38;5;241m=\u001b[39m \u001b[38;5;28;01mFalse\u001b[39;00m)\n\u001b[0;32m--> 375\u001b[0m     wf\u001b[38;5;241m.\u001b[39mapplySpaceOperator(\u001b[38;5;28;43mself\u001b[39;49m\u001b[38;5;241;43m.\u001b[39;49m\u001b[43mEprop\u001b[49m\u001b[43m(\u001b[49m\u001b[43mt\u001b[49m\u001b[38;5;241;43m+\u001b[39;49m\u001b[38;5;241;43m.5\u001b[39;49m\u001b[38;5;241;43m*\u001b[39;49m\u001b[38;5;28;43mself\u001b[39;49m\u001b[38;5;241;43m.\u001b[39;49m\u001b[43mdt\u001b[49m\u001b[43m)\u001b[49m)\n\u001b[1;32m    376\u001b[0m \u001b[38;5;28;01melse\u001b[39;00m:\n\u001b[1;32m    377\u001b[0m     wf\u001b[38;5;241m.\u001b[39mapplySpaceOperator(\u001b[38;5;28mself\u001b[39m\u001b[38;5;241m.\u001b[39mVprop)\n",
      "File \u001b[0;32m~/anaconda3/lib/python3.10/site-packages/fft_tdse/fft_tdse.py:361\u001b[0m, in \u001b[0;36mPropagator.setTimeStep.<locals>.<lambda>\u001b[0;34m(t)\u001b[0m\n\u001b[1;32m    359\u001b[0m \u001b[38;5;28mself\u001b[39m\u001b[38;5;241m.\u001b[39mTprop \u001b[38;5;241m=\u001b[39m np\u001b[38;5;241m.\u001b[39mexp(\u001b[38;5;241m-\u001b[39m\u001b[38;5;241m0.5\u001b[39mj\u001b[38;5;241m*\u001b[39mdt\u001b[38;5;241m*\u001b[39m\u001b[38;5;28mself\u001b[39m\u001b[38;5;241m.\u001b[39mham\u001b[38;5;241m.\u001b[39mT)\n\u001b[1;32m    360\u001b[0m \u001b[38;5;28mself\u001b[39m\u001b[38;5;241m.\u001b[39mVprop \u001b[38;5;241m=\u001b[39m np\u001b[38;5;241m.\u001b[39mexp(\u001b[38;5;241m-\u001b[39m\u001b[38;5;241m1\u001b[39mj\u001b[38;5;241m*\u001b[39mdt\u001b[38;5;241m*\u001b[39m\u001b[38;5;28mself\u001b[39m\u001b[38;5;241m.\u001b[39mham\u001b[38;5;241m.\u001b[39mV)\n\u001b[0;32m--> 361\u001b[0m \u001b[38;5;28mself\u001b[39m\u001b[38;5;241m.\u001b[39mEprop \u001b[38;5;241m=\u001b[39m \u001b[38;5;28;01mlambda\u001b[39;00m t: \u001b[43mnp\u001b[49m\u001b[38;5;241;43m.\u001b[39;49m\u001b[43mexp\u001b[49m\u001b[43m(\u001b[49m\u001b[38;5;241;43m1\u001b[39;49m\u001b[43mj\u001b[49m\u001b[38;5;241;43m*\u001b[39;49m\u001b[43mdt\u001b[49m\u001b[38;5;241;43m*\u001b[39;49m\u001b[38;5;28;43mself\u001b[39;49m\u001b[38;5;241;43m.\u001b[39;49m\u001b[43mham\u001b[49m\u001b[38;5;241;43m.\u001b[39;49m\u001b[43mEfun\u001b[49m\u001b[43m(\u001b[49m\u001b[43mt\u001b[49m\u001b[43m)\u001b[49m\u001b[38;5;241;43m*\u001b[39;49m\u001b[38;5;28;43mself\u001b[39;49m\u001b[38;5;241;43m.\u001b[39;49m\u001b[43mham\u001b[49m\u001b[38;5;241;43m.\u001b[39;49m\u001b[43mD\u001b[49m\u001b[43m)\u001b[49m\n",
      "\u001b[0;31mKeyboardInterrupt\u001b[0m: "
     ]
    }
   ],
   "source": [
    "norm_hist = np.zeros_like(sim1.t_grid)\n",
    "norm_hist[0] = sim1.wf.psiNorm()\n",
    "\n",
    "#anim = Animator1d(sim1)\n",
    "#anim.set_interval(80)\n",
    "\n",
    "#anim_callback = anim.get_callback()\n",
    "\n",
    "def callback(sim):\n",
    "    norm_hist[sim.t_index+1] = sim.wf.psiNorm()\n",
    "#    anim_callback(sim)\n",
    "\n",
    "sim1.simulate(callback=callback)\n",
    "#anim.make_movie(\"test.mp4\")\n"
   ]
  },
  {
   "cell_type": "code",
   "execution_count": 27,
   "id": "cda441f0",
   "metadata": {},
   "outputs": [
    {
     "name": "stderr",
     "output_type": "stream",
     "text": [
      "ic| psi.shape: (256, 256)\n"
     ]
    },
    {
     "data": {
      "text/plain": [
       "(256, 256)"
      ]
     },
     "execution_count": 27,
     "metadata": {},
     "output_type": "execute_result"
    }
   ],
   "source": [
    "import matplotlib.pyplot as plt\n",
    "\n",
    "x,y = sim1.x, sim1.y\n",
    "psi = sim1.psi\n",
    "ic(psi.shape)\n"
   ]
  },
  {
   "cell_type": "code",
   "execution_count": 28,
   "id": "ff35ba11",
   "metadata": {},
   "outputs": [],
   "source": [
    "from fft_tdse.psiviz import phase_mag_vis, mag_vis, dens_vis\n",
    "\n",
    "def make_figure(simulator):\n",
    "    # explain the next lines\n",
    "    \n",
    "    vis_type = 'complex'\n",
    "    dens_factor = 0.75 # fraction of max density to show\n",
    "    width = 1024\n",
    "    height = 1024\n",
    "    caption_format = 't = {sim.t:.2f}'\n",
    "    \n",
    "    fig_width = 10\n",
    "    fig_height = 10\n",
    "    fig, ax = plt.subplots(1, 1, figsize = (fig_width,fig_height))\n",
    "    plt.axis('off')\n",
    "    plt.subplots_adjust(left=0, right=1, top=1, bottom=0)\n",
    "    \n",
    "    x_range = simulator.x\n",
    "    y_range = simulator.y\n",
    "    psi = simulator.psi\n",
    "    xpix = len(x_range)\n",
    "    ypix = len(y_range)\n",
    "    \n",
    "        \n",
    "    if vis_type == 'density':\n",
    "        max_dens = (np.abs(psi)**2).max() * dens_factor\n",
    "    else:\n",
    "        max_dens = np.abs(psi).max() * dens_factor\n",
    "\n",
    "    if vis_type == 'complex':\n",
    "        def mag_map(r):\n",
    "            temp = r / max_dens\n",
    "\n",
    "            temp = temp**.5\n",
    "\n",
    "            return temp\n",
    "        bmp = phase_mag_vis(psi.T, mag_map=mag_map)\n",
    "    elif vis_type == 'magnitude':    \n",
    "        def mag_map(r):\n",
    "            temp = r / max_dens\n",
    "\n",
    "            return temp\n",
    "        bmp = mag_vis(psi.T, mag_map=mag_map)\n",
    "    elif vis_type == 'density':\n",
    "        def mag_map(r):\n",
    "            temp = r / max_dens\n",
    "\n",
    "            return temp\n",
    "        bmp = dens_vis(psi.T, mag_map=mag_map)\n",
    "    else:    \n",
    "        raise ValueError(f\"Unknown vis_type: {vis_type}\")\n",
    "\n",
    "    ax.clear()\n",
    "    image = ax.imshow(bmp,origin='lower', extent = [np.min(x_range), np.max(x_range), np.min(y_range), np.max(x_range)])\n",
    "    plt.savefig('test.png', dpi=width/fig_width)\n",
    "    \n",
    "\n",
    "    caption = caption_format.format(sim=simulator)\n",
    "#        caption = f't = {t:.1f}, E_field = {Efield:.6f}, energy = {energy:.6f}'\n",
    "    ax.text(.0125, .0125, caption, color = 'white', transform=ax.transAxes)\n",
    "    \n",
    "    plt.show()"
   ]
  },
  {
   "cell_type": "code",
   "execution_count": 29,
   "id": "014b2a9d",
   "metadata": {},
   "outputs": [
    {
     "name": "stderr",
     "output_type": "stream",
     "text": [
      "/var/folders/qc/b2y8zg713_x554g8ykkcbcbh0000gp/T/ipykernel_20440/1322104197.py:61: UserWarning: Matplotlib is currently using agg, which is a non-GUI backend, so cannot show the figure.\n",
      "  plt.show()\n"
     ]
    }
   ],
   "source": [
    "make_figure(sim1)"
   ]
  },
  {
   "cell_type": "code",
   "execution_count": 18,
   "id": "1829966e",
   "metadata": {},
   "outputs": [
    {
     "data": {
      "text/plain": [
       "'100.00'"
      ]
     },
     "execution_count": 18,
     "metadata": {},
     "output_type": "execute_result"
    }
   ],
   "source": [
    "test = '{sim.t:.2f}'\n",
    "test.format(sim=sim1)"
   ]
  },
  {
   "cell_type": "code",
   "execution_count": 16,
   "id": "3e8e3c68",
   "metadata": {},
   "outputs": [
    {
     "name": "stdout",
     "output_type": "stream",
     "text": [
      "Help on built-in function format:\n",
      "\n",
      "format(...) method of builtins.str instance\n",
      "    S.format(*args, **kwargs) -> str\n",
      "    \n",
      "    Return a formatted version of S, using substitutions from args and kwargs.\n",
      "    The substitutions are identified by braces ('{' and '}').\n",
      "\n"
     ]
    }
   ],
   "source": [
    "help(test.format)"
   ]
  },
  {
   "cell_type": "code",
   "execution_count": null,
   "id": "50d73928",
   "metadata": {},
   "outputs": [],
   "source": []
  }
 ],
 "metadata": {
  "kernelspec": {
   "display_name": "Python 3 (ipykernel)",
   "language": "python",
   "name": "python3"
  },
  "language_info": {
   "codemirror_mode": {
    "name": "ipython",
    "version": 3
   },
   "file_extension": ".py",
   "mimetype": "text/x-python",
   "name": "python",
   "nbconvert_exporter": "python",
   "pygments_lexer": "ipython3",
   "version": "3.10.12"
  }
 },
 "nbformat": 4,
 "nbformat_minor": 5
}
