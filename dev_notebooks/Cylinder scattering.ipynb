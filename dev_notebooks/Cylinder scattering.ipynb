{
 "cells": [
  {
   "cell_type": "code",
   "execution_count": 1,
   "id": "4e4432dd",
   "metadata": {
    "execution": {
     "iopub.execute_input": "2023-12-13T08:27:13.885628Z",
     "iopub.status.busy": "2023-12-13T08:27:13.884949Z",
     "iopub.status.idle": "2023-12-13T08:27:14.392047Z",
     "shell.execute_reply": "2023-12-13T08:27:14.391514Z"
    },
    "papermill": {
     "duration": 0.516261,
     "end_time": "2023-12-13T08:27:14.393322",
     "exception": false,
     "start_time": "2023-12-13T08:27:13.877061",
     "status": "completed"
    },
    "tags": []
   },
   "outputs": [],
   "source": [
    "import numpy as np\n",
    "from fft_tdse_simulator.simulator import *\n",
    "from fft_tdse_simulator.animator import *\n",
    "import matplotlib.colors as colors\n",
    "import matplotlib.pyplot as plt\n"
   ]
  },
  {
   "cell_type": "code",
   "execution_count": 2,
   "id": "adbac88c",
   "metadata": {
    "execution": {
     "iopub.execute_input": "2023-12-13T08:27:14.396208Z",
     "iopub.status.busy": "2023-12-13T08:27:14.395996Z",
     "iopub.status.idle": "2023-12-13T08:27:14.398777Z",
     "shell.execute_reply": "2023-12-13T08:27:14.398536Z"
    },
    "papermill": {
     "duration": 0.004906,
     "end_time": "2023-12-13T08:27:14.399573",
     "exception": false,
     "start_time": "2023-12-13T08:27:14.394667",
     "status": "completed"
    },
    "tags": []
   },
   "outputs": [],
   "source": [
    "x_min = -10\n",
    "x_max = 10\n",
    "y_min = -10\n",
    "y_max = 10\n",
    "nx = 1024\n",
    "ny = 1024\n",
    "\n",
    "def potential(x, y):\n",
    "    r2 = x*x+y*y\n",
    "    return 10 * (r2 < 1.0)\n",
    "\n",
    "\n",
    "def init_wavefunction(x, y, sigma_x = 1.0, sigma_y = 1.0, k_x = 10.0, k_y = 0.0, x0 = -5.0, y0 = 0):\n",
    "    norm = 1.0/np.sqrt(sigma_x*sigma_y*np.pi)\n",
    "    return np.exp(-(x-x0)**2/(2*sigma_x) - (y-y0)**2/(2*sigma_y) + 1j*k_x*x + 1j*k_y*y) * norm"
   ]
  },
  {
   "cell_type": "code",
   "execution_count": 3,
   "id": "f739ddf4",
   "metadata": {
    "execution": {
     "iopub.execute_input": "2023-12-13T08:27:14.401407Z",
     "iopub.status.busy": "2023-12-13T08:27:14.401305Z",
     "iopub.status.idle": "2023-12-13T08:27:14.568634Z",
     "shell.execute_reply": "2023-12-13T08:27:14.568216Z"
    },
    "papermill": {
     "duration": 0.169783,
     "end_time": "2023-12-13T08:27:14.569995",
     "exception": false,
     "start_time": "2023-12-13T08:27:14.400212",
     "status": "completed"
    },
    "tags": []
   },
   "outputs": [
    {
     "name": "stderr",
     "output_type": "stream",
     "text": [
      "ic"
     ]
    },
    {
     "name": "stderr",
     "output_type": "stream",
     "text": [
      "|"
     ]
    },
    {
     "name": "stderr",
     "output_type": "stream",
     "text": [
      " "
     ]
    },
    {
     "name": "stderr",
     "output_type": "stream",
     "text": [
      "message"
     ]
    },
    {
     "name": "stderr",
     "output_type": "stream",
     "text": [
      ":"
     ]
    },
    {
     "name": "stderr",
     "output_type": "stream",
     "text": [
      " "
     ]
    },
    {
     "name": "stderr",
     "output_type": "stream",
     "text": [
      "'"
     ]
    },
    {
     "name": "stderr",
     "output_type": "stream",
     "text": [
      "Dimension set to 2"
     ]
    },
    {
     "name": "stderr",
     "output_type": "stream",
     "text": [
      "'"
     ]
    },
    {
     "name": "stderr",
     "output_type": "stream",
     "text": [
      "\n"
     ]
    },
    {
     "name": "stderr",
     "output_type": "stream",
     "text": [
      "ic"
     ]
    },
    {
     "name": "stderr",
     "output_type": "stream",
     "text": [
      "|"
     ]
    },
    {
     "name": "stderr",
     "output_type": "stream",
     "text": [
      " "
     ]
    },
    {
     "name": "stderr",
     "output_type": "stream",
     "text": [
      "message"
     ]
    },
    {
     "name": "stderr",
     "output_type": "stream",
     "text": [
      ":"
     ]
    },
    {
     "name": "stderr",
     "output_type": "stream",
     "text": [
      " "
     ]
    },
    {
     "name": "stderr",
     "output_type": "stream",
     "text": [
      "'"
     ]
    },
    {
     "name": "stderr",
     "output_type": "stream",
     "text": [
      "Initial condition set."
     ]
    },
    {
     "name": "stderr",
     "output_type": "stream",
     "text": [
      "'"
     ]
    },
    {
     "name": "stderr",
     "output_type": "stream",
     "text": [
      "\n"
     ]
    },
    {
     "name": "stderr",
     "output_type": "stream",
     "text": [
      "ic"
     ]
    },
    {
     "name": "stderr",
     "output_type": "stream",
     "text": [
      "|"
     ]
    },
    {
     "name": "stderr",
     "output_type": "stream",
     "text": [
      " "
     ]
    },
    {
     "name": "stderr",
     "output_type": "stream",
     "text": [
      "self"
     ]
    },
    {
     "name": "stderr",
     "output_type": "stream",
     "text": [
      "."
     ]
    },
    {
     "name": "stderr",
     "output_type": "stream",
     "text": [
      "initial_psi_fun"
     ]
    },
    {
     "name": "stderr",
     "output_type": "stream",
     "text": [
      ":"
     ]
    },
    {
     "name": "stderr",
     "output_type": "stream",
     "text": [
      " "
     ]
    },
    {
     "name": "stderr",
     "output_type": "stream",
     "text": [
      "<"
     ]
    },
    {
     "name": "stderr",
     "output_type": "stream",
     "text": [
      "function"
     ]
    },
    {
     "name": "stderr",
     "output_type": "stream",
     "text": [
      " "
     ]
    },
    {
     "name": "stderr",
     "output_type": "stream",
     "text": [
      "<"
     ]
    },
    {
     "name": "stderr",
     "output_type": "stream",
     "text": [
      "lambda"
     ]
    },
    {
     "name": "stderr",
     "output_type": "stream",
     "text": [
      ">"
     ]
    },
    {
     "name": "stderr",
     "output_type": "stream",
     "text": [
      " "
     ]
    },
    {
     "name": "stderr",
     "output_type": "stream",
     "text": [
      "at"
     ]
    },
    {
     "name": "stderr",
     "output_type": "stream",
     "text": [
      " "
     ]
    },
    {
     "name": "stderr",
     "output_type": "stream",
     "text": [
      "0x139bcc820"
     ]
    },
    {
     "name": "stderr",
     "output_type": "stream",
     "text": [
      ">"
     ]
    },
    {
     "name": "stderr",
     "output_type": "stream",
     "text": [
      "\n"
     ]
    },
    {
     "name": "stderr",
     "output_type": "stream",
     "text": [
      "ic"
     ]
    },
    {
     "name": "stderr",
     "output_type": "stream",
     "text": [
      "|"
     ]
    },
    {
     "name": "stderr",
     "output_type": "stream",
     "text": [
      " "
     ]
    },
    {
     "name": "stderr",
     "output_type": "stream",
     "text": [
      "'"
     ]
    },
    {
     "name": "stderr",
     "output_type": "stream",
     "text": [
      "Time grid:"
     ]
    },
    {
     "name": "stderr",
     "output_type": "stream",
     "text": [
      "'"
     ]
    },
    {
     "name": "stderr",
     "output_type": "stream",
     "text": [
      "\n"
     ]
    },
    {
     "name": "stderr",
     "output_type": "stream",
     "text": [
      "ic"
     ]
    },
    {
     "name": "stderr",
     "output_type": "stream",
     "text": [
      "|"
     ]
    },
    {
     "name": "stderr",
     "output_type": "stream",
     "text": [
      " "
     ]
    },
    {
     "name": "stderr",
     "output_type": "stream",
     "text": [
      "self"
     ]
    },
    {
     "name": "stderr",
     "output_type": "stream",
     "text": [
      "."
     ]
    },
    {
     "name": "stderr",
     "output_type": "stream",
     "text": [
      "t0"
     ]
    },
    {
     "name": "stderr",
     "output_type": "stream",
     "text": [
      ":"
     ]
    },
    {
     "name": "stderr",
     "output_type": "stream",
     "text": [
      " "
     ]
    },
    {
     "name": "stderr",
     "output_type": "stream",
     "text": [
      "0.0"
     ]
    },
    {
     "name": "stderr",
     "output_type": "stream",
     "text": [
      ","
     ]
    },
    {
     "name": "stderr",
     "output_type": "stream",
     "text": [
      " "
     ]
    },
    {
     "name": "stderr",
     "output_type": "stream",
     "text": [
      "self"
     ]
    },
    {
     "name": "stderr",
     "output_type": "stream",
     "text": [
      "."
     ]
    },
    {
     "name": "stderr",
     "output_type": "stream",
     "text": [
      "t1"
     ]
    },
    {
     "name": "stderr",
     "output_type": "stream",
     "text": [
      ":"
     ]
    },
    {
     "name": "stderr",
     "output_type": "stream",
     "text": [
      " "
     ]
    },
    {
     "name": "stderr",
     "output_type": "stream",
     "text": [
      "10.0"
     ]
    },
    {
     "name": "stderr",
     "output_type": "stream",
     "text": [
      ","
     ]
    },
    {
     "name": "stderr",
     "output_type": "stream",
     "text": [
      " "
     ]
    },
    {
     "name": "stderr",
     "output_type": "stream",
     "text": [
      "self"
     ]
    },
    {
     "name": "stderr",
     "output_type": "stream",
     "text": [
      "."
     ]
    },
    {
     "name": "stderr",
     "output_type": "stream",
     "text": [
      "n_steps"
     ]
    },
    {
     "name": "stderr",
     "output_type": "stream",
     "text": [
      ":"
     ]
    },
    {
     "name": "stderr",
     "output_type": "stream",
     "text": [
      " "
     ]
    },
    {
     "name": "stderr",
     "output_type": "stream",
     "text": [
      "4000"
     ]
    },
    {
     "name": "stderr",
     "output_type": "stream",
     "text": [
      "\n"
     ]
    }
   ],
   "source": [
    "sim = Simulator(verbose=True)\n",
    "sim.set_dimension(2)\n",
    "sim.set_initial_condition(lambda x, y: init_wavefunction(x, y))\n",
    "sim.set_mass(10.0)\n",
    "sim.set_potential(lambda x, y: potential(x,y))\n",
    "sim.set_grid([x_min, y_min], [x_max, y_max], [nx, ny])\n",
    "sim.set_time_parameters(0.0, 10.0, 4000)\n",
    "sim.prepare()\n",
    "\n",
    "\n",
    "\n",
    "\n"
   ]
  },
  {
   "cell_type": "code",
   "execution_count": 4,
   "id": "62bb9e75",
   "metadata": {
    "execution": {
     "iopub.execute_input": "2023-12-13T08:27:14.576257Z",
     "iopub.status.busy": "2023-12-13T08:27:14.576120Z",
     "iopub.status.idle": "2023-12-13T08:27:14.799589Z",
     "shell.execute_reply": "2023-12-13T08:27:14.790964Z"
    },
    "papermill": {
     "duration": 0.230233,
     "end_time": "2023-12-13T08:27:14.803185",
     "exception": false,
     "start_time": "2023-12-13T08:27:14.572952",
     "status": "completed"
    },
    "tags": []
   },
   "outputs": [
    {
     "data": {
      "image/png": "[encoded data removed]",
      "text/plain": [
       "<Figure size 640x480 with 2 Axes>"
      ]
     },
     "metadata": {},
     "output_type": "display_data"
    }
   ],
   "source": [
    "plt.figure()\n",
    "plt.imshow(sim.ham.V)\n",
    "plt.title('Potential')\n",
    "plt.colorbar()\n",
    "plt.show()"
   ]
  },
  {
   "cell_type": "code",
   "execution_count": 5,
   "id": "7484333a",
   "metadata": {
    "execution": {
     "iopub.execute_input": "2023-12-13T08:27:14.810698Z",
     "iopub.status.busy": "2023-12-13T08:27:14.810422Z"
    },
    "papermill": {
     "duration": 12.317793,
     "end_time": "2023-12-13T08:27:27.124627",
     "exception": false,
     "start_time": "2023-12-13T08:27:14.806834",
     "status": "completed"
    },
    "tags": []
   },
   "outputs": [
    {
     "name": "stderr",
     "output_type": "stream",
     "text": [
      "ic"
     ]
    },
    {
     "name": "stderr",
     "output_type": "stream",
     "text": [
      "|"
     ]
    },
    {
     "name": "stderr",
     "output_type": "stream",
     "text": [
      " "
     ]
    },
    {
     "name": "stderr",
     "output_type": "stream",
     "text": [
      "self"
     ]
    },
    {
     "name": "stderr",
     "output_type": "stream",
     "text": [
      "."
     ]
    },
    {
     "name": "stderr",
     "output_type": "stream",
     "text": [
      "format"
     ]
    },
    {
     "name": "stderr",
     "output_type": "stream",
     "text": [
      ":"
     ]
    },
    {
     "name": "stderr",
     "output_type": "stream",
     "text": [
      " "
     ]
    },
    {
     "name": "stderr",
     "output_type": "stream",
     "text": [
      "'"
     ]
    },
    {
     "name": "stderr",
     "output_type": "stream",
     "text": [
      "./frames1/frame"
     ]
    },
    {
     "name": "stderr",
     "output_type": "stream",
     "text": [
      "%05d"
     ]
    },
    {
     "name": "stderr",
     "output_type": "stream",
     "text": [
      ".png"
     ]
    },
    {
     "name": "stderr",
     "output_type": "stream",
     "text": [
      "'"
     ]
    },
    {
     "name": "stderr",
     "output_type": "stream",
     "text": [
      "\n"
     ]
    },
    {
     "name": "stderr",
     "output_type": "stream",
     "text": [
      "ic"
     ]
    },
    {
     "name": "stderr",
     "output_type": "stream",
     "text": [
      "|"
     ]
    },
    {
     "name": "stderr",
     "output_type": "stream",
     "text": [
      " "
     ]
    },
    {
     "name": "stderr",
     "output_type": "stream",
     "text": [
      "self"
     ]
    },
    {
     "name": "stderr",
     "output_type": "stream",
     "text": [
      "."
     ]
    },
    {
     "name": "stderr",
     "output_type": "stream",
     "text": [
      "format"
     ]
    },
    {
     "name": "stderr",
     "output_type": "stream",
     "text": [
      ":"
     ]
    },
    {
     "name": "stderr",
     "output_type": "stream",
     "text": [
      " "
     ]
    },
    {
     "name": "stderr",
     "output_type": "stream",
     "text": [
      "'"
     ]
    },
    {
     "name": "stderr",
     "output_type": "stream",
     "text": [
      "./frames2/frame"
     ]
    },
    {
     "name": "stderr",
     "output_type": "stream",
     "text": [
      "%05d"
     ]
    },
    {
     "name": "stderr",
     "output_type": "stream",
     "text": [
      ".png"
     ]
    },
    {
     "name": "stderr",
     "output_type": "stream",
     "text": [
      "'"
     ]
    },
    {
     "name": "stderr",
     "output_type": "stream",
     "text": [
      "\n"
     ]
    },
    {
     "name": "stderr",
     "output_type": "stream",
     "text": [
      "ic"
     ]
    },
    {
     "name": "stderr",
     "output_type": "stream",
     "text": [
      "|"
     ]
    },
    {
     "name": "stderr",
     "output_type": "stream",
     "text": [
      " "
     ]
    },
    {
     "name": "stderr",
     "output_type": "stream",
     "text": [
      "'"
     ]
    },
    {
     "name": "stderr",
     "output_type": "stream",
     "text": [
      "Running simulation..."
     ]
    },
    {
     "name": "stderr",
     "output_type": "stream",
     "text": [
      "'"
     ]
    },
    {
     "name": "stderr",
     "output_type": "stream",
     "text": [
      "\n"
     ]
    },
    {
     "data": {
      "application/vnd.jupyter.widget-view+json": {
       "model_id": "10756dbbefa44846ad4fdc44a137c9db",
       "version_major": 2,
       "version_minor": 0
      },
      "text/plain": [
       "  0%|          | 0/4000 [00:00<?, ?it/s]"
      ]
     },
     "metadata": {},
     "output_type": "display_data"
    }
   ],
   "source": [
    "anim1 = Animator2d(sim, folder='./frames1/')\n",
    "anim1.vis_type = 'complex'\n",
    "anim1.show_axis = False\n",
    "\n",
    "anim2 = Animator2d(sim, folder='./frames2/')\n",
    "anim2.vis_type = 'magnitude'\n",
    "anim2.show_axis = False\n",
    "\n",
    "anim1.set_interval(10)\n",
    "anim1.set_framesize(1024, 1024)\n",
    "anim2.set_interval(10)\n",
    "anim2.set_framesize(1024, 1024)\n",
    "\n",
    "# initialize figure, and add potential visualization\n",
    "anim1.init_figure()\n",
    "anim1.add_potential_visualization_2d()\n",
    "anim2.init_figure()\n",
    "anim2.add_potential_visualization_2d()\n",
    "\n",
    "\n",
    "anim_callback1 = anim1.get_callback()\n",
    "anim_callback2 = anim2.get_callback()\n",
    "\n",
    "def callback(sim):\n",
    "    anim_callback1(sim)\n",
    "    anim_callback2(sim)\n",
    "    \n",
    "sim.simulate(callback=callback)\n",
    "anim1.make_movie(\"cylinder_scattering_complex.mp4\")\n",
    "anim1.clean_frames()\n",
    "anim2.make_movie(\"cylinder_scattering_magnitude.mp4\")\n",
    "anim2.clean_frames()"
   ]
  },
  {
   "cell_type": "code",
   "execution_count": null,
   "id": "66e591a9",
   "metadata": {
    "papermill": {
     "duration": null,
     "end_time": null,
     "exception": null,
     "start_time": null,
     "status": "completed"
    },
    "tags": []
   },
   "outputs": [],
   "source": []
  }
 ],
 "metadata": {
  "kernelspec": {
   "display_name": "Python 3 (ipykernel)",
   "language": "python",
   "name": "python3"
  },
  "language_info": {
   "codemirror_mode": {
    "name": "ipython",
    "version": 3
   },
   "file_extension": ".py",
   "mimetype": "text/x-python",
   "name": "python",
   "nbconvert_exporter": "python",
   "pygments_lexer": "ipython3",
   "version": "3.10.12"
  },
  "papermill": {
   "default_parameters": {},
   "duration": 14.97124,
   "end_time": "2023-12-13T08:27:27.811076",
   "environment_variables": {},
   "exception": null,
   "input_path": "Cylinder scattering.ipynb",
   "output_path": "Cylinder scattering.ipynb",
   "parameters": {},
   "start_time": "2023-12-13T08:27:12.839836",
   "version": "2.5.0"
  }
 },
 "nbformat": 4,
 "nbformat_minor": 5
}