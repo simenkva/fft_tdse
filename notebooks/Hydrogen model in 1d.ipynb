{
 "cells": [
  {
   "cell_type": "code",
   "execution_count": null,
   "id": "4e340edf",
   "metadata": {},
   "outputs": [],
   "source": [
    "import numpy as np\n",
    "from fft_tdse_simulator.simulator import *\n",
    "from fft_tdse_simulator.animator import *\n",
    "import matplotlib.colors as colors\n",
    "import matplotlib.pyplot as plt"
   ]
  },
  {
   "cell_type": "code",
   "execution_count": null,
   "id": "6b9c9ae3",
   "metadata": {},
   "outputs": [],
   "source": [
    "x_min = -400.0\n",
    "x_max = 400.0\n",
    "nx = 4096\n",
    "\n",
    "def potential(x):\n",
    "    V = -0.5 * (x*x + 0.25)**(-.5)\n",
    "    return V\n",
    "\n",
    "\n",
    "\n"
   ]
  },
  {
   "cell_type": "code",
   "execution_count": null,
   "id": "fdbd7b3b",
   "metadata": {
    "scrolled": false
   },
   "outputs": [],
   "source": [
    "sim = Simulator(verbose=True)\n",
    "sim.set_dimension(1)\n",
    "sim.set_potential(potential)\n",
    "sim.set_grid(x_min, x_max, nx)\n",
    "#sim.set_ground_state_grid(-50,50,512)\n",
    "sim.set_time_parameters(0.0, 150.0, 15000)\n",
    "#sim.ground_state_guess =  sim.x * np.exp(-sim.x**2/2)\n",
    "#sim.wf.setPsi(sim.wf.psi * np.exp(1j*sim.x))\n",
    "\n",
    "laser = LaserPulse(omega=0.25, t0=20.0, T=60.0, E0=0.1)\n",
    "sim.set_laser_pulse(laser)\n",
    "\n",
    "sim.prepare()\n",
    "\n",
    "\n",
    "plt.figure()\n",
    "plt.plot(sim.x,potential(sim.x))\n",
    "plt.xlabel('x')\n",
    "plt.title('Potential energy V(x)')\n",
    "plt.show()\n",
    "\n",
    "plt.figure()\n",
    "plt.plot(sim.x,sim.psi.real)\n",
    "plt.xlabel('x')\n",
    "plt.title('Wavefunction at t=0')\n",
    "plt.show()\n"
   ]
  },
  {
   "cell_type": "code",
   "execution_count": null,
   "id": "9678599a",
   "metadata": {},
   "outputs": [],
   "source": [
    "sim.prepare()\n",
    "anim = Animator1d(sim)\n",
    "\n",
    "anim.set_style(DarkTheme1d())\n",
    "\n",
    "\n",
    "anim.set_interval(20)\n",
    "anim.set_framesize(1024, 768)\n",
    "anim.xlim = [-200,200]\n",
    "\n",
    "anim.init_figure()\n",
    "\n",
    "\n",
    "anim_callback = anim.get_callback()\n",
    "\n",
    "def callback(sim):\n",
    "    anim_callback(sim)\n",
    "    \n",
    "sim.simulate(callback=callback)\n",
    "anim.make_movie(\"atom_1d.mp4\")\n",
    "anim.clean_frames()\n"
   ]
  },
  {
   "cell_type": "code",
   "execution_count": null,
   "id": "5cc4375e",
   "metadata": {},
   "outputs": [],
   "source": [
    "help(LaserPulse)"
   ]
  },
  {
   "cell_type": "code",
   "execution_count": null,
   "id": "28a6016f",
   "metadata": {},
   "outputs": [],
   "source": []
  }
 ],
 "metadata": {
  "kernelspec": {
   "display_name": "Python 3 (ipykernel)",
   "language": "python",
   "name": "python3"
  },
  "language_info": {
   "codemirror_mode": {
    "name": "ipython",
    "version": 3
   },
   "file_extension": ".py",
   "mimetype": "text/x-python",
   "name": "python",
   "nbconvert_exporter": "python",
   "pygments_lexer": "ipython3",
   "version": "3.10.12"
  }
 },
 "nbformat": 4,
 "nbformat_minor": 5
}
